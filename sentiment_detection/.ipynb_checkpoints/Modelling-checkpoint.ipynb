{
 "cells": [
  {
   "cell_type": "code",
   "execution_count": 1,
   "metadata": {
    "ExecuteTime": {
     "end_time": "2020-03-31T08:04:43.215463Z",
     "start_time": "2020-03-31T08:04:37.835286Z"
    }
   },
   "outputs": [
    {
     "name": "stdout",
     "output_type": "stream",
     "text": [
      "Requirement already satisfied: keras in c:\\users\\kumar\\anaconda3\\lib\\site-packages (2.4.3)\n",
      "Requirement already satisfied: scipy>=0.14 in c:\\users\\kumar\\anaconda3\\lib\\site-packages (from keras) (1.5.2)\n",
      "Requirement already satisfied: pyyaml in c:\\users\\kumar\\anaconda3\\lib\\site-packages (from keras) (5.3.1)\n",
      "Requirement already satisfied: numpy>=1.9.1 in c:\\users\\kumar\\anaconda3\\lib\\site-packages (from keras) (1.19.2)\n",
      "Requirement already satisfied: h5py in c:\\users\\kumar\\anaconda3\\lib\\site-packages (from keras) (2.10.0)\n",
      "Requirement already satisfied: six in c:\\users\\kumar\\anaconda3\\lib\\site-packages (from h5py->keras) (1.15.0)\n",
      "Requirement already satisfied: tensorflow in c:\\users\\kumar\\anaconda3\\lib\\site-packages (2.4.1)\n",
      "Requirement already satisfied: six~=1.15.0 in c:\\users\\kumar\\anaconda3\\lib\\site-packages (from tensorflow) (1.15.0)\n",
      "Requirement already satisfied: termcolor~=1.1.0 in c:\\users\\kumar\\anaconda3\\lib\\site-packages (from tensorflow) (1.1.0)\n",
      "Requirement already satisfied: grpcio~=1.32.0 in c:\\users\\kumar\\anaconda3\\lib\\site-packages (from tensorflow) (1.32.0)\n",
      "Requirement already satisfied: typing-extensions~=3.7.4 in c:\\users\\kumar\\anaconda3\\lib\\site-packages (from tensorflow) (3.7.4.3)\n",
      "Requirement already satisfied: gast==0.3.3 in c:\\users\\kumar\\anaconda3\\lib\\site-packages (from tensorflow) (0.3.3)\n",
      "Requirement already satisfied: tensorflow-estimator<2.5.0,>=2.4.0 in c:\\users\\kumar\\anaconda3\\lib\\site-packages (from tensorflow) (2.4.0)\n",
      "Requirement already satisfied: flatbuffers~=1.12.0 in c:\\users\\kumar\\anaconda3\\lib\\site-packages (from tensorflow) (1.12)\n",
      "Requirement already satisfied: wheel~=0.35 in c:\\users\\kumar\\anaconda3\\lib\\site-packages (from tensorflow) (0.35.1)\n",
      "Requirement already satisfied: google-pasta~=0.2 in c:\\users\\kumar\\anaconda3\\lib\\site-packages (from tensorflow) (0.2.0)\n",
      "Requirement already satisfied: numpy~=1.19.2 in c:\\users\\kumar\\anaconda3\\lib\\site-packages (from tensorflow) (1.19.2)\n",
      "Requirement already satisfied: astunparse~=1.6.3 in c:\\users\\kumar\\anaconda3\\lib\\site-packages (from tensorflow) (1.6.3)\n",
      "Requirement already satisfied: opt-einsum~=3.3.0 in c:\\users\\kumar\\anaconda3\\lib\\site-packages (from tensorflow) (3.3.0)\n",
      "Requirement already satisfied: protobuf>=3.9.2 in c:\\users\\kumar\\anaconda3\\lib\\site-packages (from tensorflow) (3.15.7)\n",
      "Requirement already satisfied: wrapt~=1.12.1 in c:\\users\\kumar\\anaconda3\\lib\\site-packages (from tensorflow) (1.12.1)\n",
      "Requirement already satisfied: h5py~=2.10.0 in c:\\users\\kumar\\anaconda3\\lib\\site-packages (from tensorflow) (2.10.0)\n",
      "Requirement already satisfied: tensorboard~=2.4 in c:\\users\\kumar\\anaconda3\\lib\\site-packages (from tensorflow) (2.4.1)\n",
      "Requirement already satisfied: absl-py~=0.10 in c:\\users\\kumar\\anaconda3\\lib\\site-packages (from tensorflow) (0.12.0)\n",
      "Requirement already satisfied: keras-preprocessing~=1.1.2 in c:\\users\\kumar\\anaconda3\\lib\\site-packages (from tensorflow) (1.1.2)\n",
      "Requirement already satisfied: google-auth-oauthlib<0.5,>=0.4.1 in c:\\users\\kumar\\anaconda3\\lib\\site-packages (from tensorboard~=2.4->tensorflow) (0.4.4)\n",
      "Requirement already satisfied: tensorboard-plugin-wit>=1.6.0 in c:\\users\\kumar\\anaconda3\\lib\\site-packages (from tensorboard~=2.4->tensorflow) (1.8.0)\n",
      "Requirement already satisfied: werkzeug>=0.11.15 in c:\\users\\kumar\\anaconda3\\lib\\site-packages (from tensorboard~=2.4->tensorflow) (1.0.1)\n",
      "Requirement already satisfied: markdown>=2.6.8 in c:\\users\\kumar\\anaconda3\\lib\\site-packages (from tensorboard~=2.4->tensorflow) (3.3.4)\n",
      "Requirement already satisfied: google-auth<2,>=1.6.3 in c:\\users\\kumar\\anaconda3\\lib\\site-packages (from tensorboard~=2.4->tensorflow) (1.28.0)\n",
      "Requirement already satisfied: requests<3,>=2.21.0 in c:\\users\\kumar\\anaconda3\\lib\\site-packages (from tensorboard~=2.4->tensorflow) (2.24.0)\n",
      "Requirement already satisfied: setuptools>=41.0.0 in c:\\users\\kumar\\anaconda3\\lib\\site-packages (from tensorboard~=2.4->tensorflow) (50.3.1.post20201107)\n",
      "Requirement already satisfied: requests-oauthlib>=0.7.0 in c:\\users\\kumar\\anaconda3\\lib\\site-packages (from google-auth-oauthlib<0.5,>=0.4.1->tensorboard~=2.4->tensorflow) (1.3.0)\n",
      "Requirement already satisfied: pyasn1-modules>=0.2.1 in c:\\users\\kumar\\anaconda3\\lib\\site-packages (from google-auth<2,>=1.6.3->tensorboard~=2.4->tensorflow) (0.2.8)\n",
      "Requirement already satisfied: cachetools<5.0,>=2.0.0 in c:\\users\\kumar\\anaconda3\\lib\\site-packages (from google-auth<2,>=1.6.3->tensorboard~=2.4->tensorflow) (4.2.1)\n",
      "Requirement already satisfied: rsa<5,>=3.1.4; python_version >= \"3.6\" in c:\\users\\kumar\\anaconda3\\lib\\site-packages (from google-auth<2,>=1.6.3->tensorboard~=2.4->tensorflow) (4.7.2)\n",
      "Requirement already satisfied: urllib3!=1.25.0,!=1.25.1,<1.26,>=1.21.1 in c:\\users\\kumar\\anaconda3\\lib\\site-packages (from requests<3,>=2.21.0->tensorboard~=2.4->tensorflow) (1.25.11)\n",
      "Requirement already satisfied: certifi>=2017.4.17 in c:\\users\\kumar\\anaconda3\\lib\\site-packages (from requests<3,>=2.21.0->tensorboard~=2.4->tensorflow) (2020.6.20)\n",
      "Requirement already satisfied: idna<3,>=2.5 in c:\\users\\kumar\\anaconda3\\lib\\site-packages (from requests<3,>=2.21.0->tensorboard~=2.4->tensorflow) (2.10)\n",
      "Requirement already satisfied: chardet<4,>=3.0.2 in c:\\users\\kumar\\anaconda3\\lib\\site-packages (from requests<3,>=2.21.0->tensorboard~=2.4->tensorflow) (3.0.4)\n",
      "Requirement already satisfied: oauthlib>=3.0.0 in c:\\users\\kumar\\anaconda3\\lib\\site-packages (from requests-oauthlib>=0.7.0->google-auth-oauthlib<0.5,>=0.4.1->tensorboard~=2.4->tensorflow) (3.1.0)\n",
      "Requirement already satisfied: pyasn1<0.5.0,>=0.4.6 in c:\\users\\kumar\\anaconda3\\lib\\site-packages (from pyasn1-modules>=0.2.1->google-auth<2,>=1.6.3->tensorboard~=2.4->tensorflow) (0.4.8)\n"
     ]
    }
   ],
   "source": [
    "import pandas as pd\n",
    "import numpy as np\n",
    "import matplotlib.pyplot as plt\n",
    "from numpy import asarray\n",
    "import seaborn as sns\n",
    "\n",
    "import pydotplus as pyd\n",
    "!pip install keras\n",
    "!pip install tensorflow\n",
    "\n",
    "from sklearn.model_selection import train_test_split\n",
    "from sklearn.metrics import confusion_matrix\n",
    "\n",
    "import keras\n",
    "from tensorflow.keras.utils import to_categorical\n",
    "from tensorflow.keras.models import Model\n",
    "from tensorflow.keras import backend as K\n",
    "from tensorflow.keras.layers import Dense, Input, Flatten, Embedding, Conv1D, MaxPooling1D, Dropout, BatchNormalization, Activation, concatenate\n",
    "from tensorflow.keras.preprocessing.text import Tokenizer\n",
    "from tensorflow.keras.preprocessing.sequence import pad_sequences\n",
    "from tensorflow.keras.utils import plot_model\n",
    "from tensorflow.keras.callbacks import ModelCheckpoint, TensorBoard, EarlyStopping, ReduceLROnPlateau\n",
    "from tensorflow.keras import optimizers\n",
    "\n",
    "%matplotlib inline"
   ]
  },
  {
   "cell_type": "code",
   "execution_count": 116,
   "metadata": {
    "ExecuteTime": {
     "end_time": "2020-03-31T08:04:43.259373Z",
     "start_time": "2020-03-31T08:04:43.217342Z"
    }
   },
   "outputs": [
    {
     "data": {
      "text/html": [
       "<div>\n",
       "<style scoped>\n",
       "    .dataframe tbody tr th:only-of-type {\n",
       "        vertical-align: middle;\n",
       "    }\n",
       "\n",
       "    .dataframe tbody tr th {\n",
       "        vertical-align: top;\n",
       "    }\n",
       "\n",
       "    .dataframe thead th {\n",
       "        text-align: right;\n",
       "    }\n",
       "</style>\n",
       "<table border=\"1\" class=\"dataframe\">\n",
       "  <thead>\n",
       "    <tr style=\"text-align: right;\">\n",
       "      <th></th>\n",
       "      <th>tweets</th>\n",
       "      <th>tags</th>\n",
       "    </tr>\n",
       "  </thead>\n",
       "  <tbody>\n",
       "    <tr>\n",
       "      <th>0</th>\n",
       "      <td>gas by my house hit going to chapel hill on sat</td>\n",
       "      <td>1</td>\n",
       "    </tr>\n",
       "    <tr>\n",
       "      <th>1</th>\n",
       "      <td>theo walcott is still watch rafa and johnny de...</td>\n",
       "      <td>0</td>\n",
       "    </tr>\n",
       "    <tr>\n",
       "      <th>2</th>\n",
       "      <td>its not that a gsp i just hate nick diaz wait ...</td>\n",
       "      <td>0</td>\n",
       "    </tr>\n",
       "    <tr>\n",
       "      <th>3</th>\n",
       "      <td>iranian general says iron dome deal with their...</td>\n",
       "      <td>0</td>\n",
       "    </tr>\n",
       "    <tr>\n",
       "      <th>4</th>\n",
       "      <td>mon amour obama tried to establish ties with t...</td>\n",
       "      <td>2</td>\n",
       "    </tr>\n",
       "  </tbody>\n",
       "</table>\n",
       "</div>"
      ],
      "text/plain": [
       "                                              tweets  tags\n",
       "0    gas by my house hit going to chapel hill on sat     1\n",
       "1  theo walcott is still watch rafa and johnny de...     0\n",
       "2  its not that a gsp i just hate nick diaz wait ...     0\n",
       "3  iranian general says iron dome deal with their...     0\n",
       "4  mon amour obama tried to establish ties with t...     2"
      ]
     },
     "execution_count": 116,
     "metadata": {},
     "output_type": "execute_result"
    }
   ],
   "source": [
    "df = pd.read_csv('data/final/cleaned_data.csv')\n",
    "# df.head()\n",
    "df['tags'] = df['tags'].apply(lambda x: ['negative', 'positive', 'neutral'].index(x))\n",
    "df.head()"
   ]
  },
  {
   "cell_type": "code",
   "execution_count": 117,
   "metadata": {
    "ExecuteTime": {
     "end_time": "2020-03-31T08:04:43.266898Z",
     "start_time": "2020-03-31T08:04:43.261985Z"
    }
   },
   "outputs": [],
   "source": [
    "X_sample = df['tweets'].values\n",
    "Y_sample = df['tags'].values\n",
    "\n",
    "X_train, X_test, y_train, y_test = train_test_split(X_sample, Y_sample, test_size=0.2, random_state=40)\n"
   ]
  },
  {
   "cell_type": "code",
   "execution_count": 118,
   "metadata": {
    "ExecuteTime": {
     "end_time": "2020-03-31T08:06:16.625532Z",
     "start_time": "2020-03-31T08:06:16.620431Z"
    }
   },
   "outputs": [
    {
     "name": "stdout",
     "output_type": "stream",
     "text": [
      "0 : 1147\n",
      "1 : 2911\n",
      "2 : 3689\n"
     ]
    }
   ],
   "source": [
    "unique, counts = np.unique(y_train, return_counts=True)\n",
    "for i in range(len(unique)):\n",
    "    print(f\"{unique[i]} : {counts[i]}\")"
   ]
  },
  {
   "cell_type": "code",
   "execution_count": 119,
   "metadata": {
    "ExecuteTime": {
     "end_time": "2020-03-31T08:07:06.399102Z",
     "start_time": "2020-03-31T08:07:06.394133Z"
    }
   },
   "outputs": [
    {
     "name": "stdout",
     "output_type": "stream",
     "text": [
      "0 : 311\n",
      "1 : 729\n",
      "2 : 897\n"
     ]
    }
   ],
   "source": [
    "unique, counts = np.unique(y_test, return_counts=True)\n",
    "for i in range(len(unique)):\n",
    "    print(f\"{unique[i]} : {counts[i]}\")"
   ]
  },
  {
   "cell_type": "code",
   "execution_count": 120,
   "metadata": {
    "ExecuteTime": {
     "end_time": "2020-03-31T08:04:43.532167Z",
     "start_time": "2020-03-31T08:04:43.269296Z"
    }
   },
   "outputs": [],
   "source": [
    "t = Tokenizer()\n",
    "t.fit_on_texts(X_train)\n",
    "enc_train = t.texts_to_sequences(X_train)\n",
    "enc_test = t.texts_to_sequences(X_test)"
   ]
  },
  {
   "cell_type": "code",
   "execution_count": 121,
   "metadata": {
    "ExecuteTime": {
     "end_time": "2020-03-30T17:14:48.993204Z",
     "start_time": "2020-03-30T17:14:48.799481Z"
    }
   },
   "outputs": [
    {
     "name": "stdout",
     "output_type": "stream",
     "text": [
      "16666\n"
     ]
    }
   ],
   "source": [
    "size_vocabulary = len(t.word_index) + 1\n",
    "print(size_vocabulary)"
   ]
  },
  {
   "cell_type": "code",
   "execution_count": 122,
   "metadata": {
    "ExecuteTime": {
     "end_time": "2020-03-30T17:14:49.579608Z",
     "start_time": "2020-03-30T17:14:49.518536Z"
    }
   },
   "outputs": [],
   "source": [
    "pad_train = pad_sequences(enc_train, maxlen=140, padding='post')\n",
    "pad_test = pad_sequences(enc_test, maxlen=140, padding='post')"
   ]
  },
  {
   "cell_type": "code",
   "execution_count": 123,
   "metadata": {
    "ExecuteTime": {
     "end_time": "2020-03-30T17:14:58.930033Z",
     "start_time": "2020-03-30T17:14:58.925734Z"
    }
   },
   "outputs": [],
   "source": [
    "y_train = to_categorical(y_train, num_classes=3)\n",
    "y_test = to_categorical(y_test, num_classes=3)"
   ]
  },
  {
   "cell_type": "code",
   "execution_count": 101,
   "metadata": {
    "ExecuteTime": {
     "end_time": "2020-03-30T17:29:10.224223Z",
     "start_time": "2020-03-30T17:28:02.356925Z"
    }
   },
   "outputs": [
    {
     "name": "stdout",
     "output_type": "stream",
     "text": [
      "Loaded 1193514 word vectors.\n"
     ]
    }
   ],
   "source": [
    "# load the whole embedding into memory\n",
    "embeddings_index = dict()\n",
    "fil = open('glove.twitter.27B.200d.txt', encoding = \"utf8\")\n",
    "for vakya in fil:\n",
    "    value = vakya.split()\n",
    "    shabd = value[0]\n",
    "    coefs = asarray(value[1:], dtype='float32')\n",
    "    embeddings_index[shabd] = coefs\n",
    "\n",
    "fil.close()\n",
    "print('Loaded %s word vectors.' % len(embeddings_index))"
   ]
  },
  {
   "cell_type": "code",
   "execution_count": 124,
   "metadata": {
    "ExecuteTime": {
     "end_time": "2020-03-30T17:29:24.783672Z",
     "start_time": "2020-03-30T17:29:24.570144Z"
    }
   },
   "outputs": [
    {
     "data": {
      "text/plain": [
       "(16666, 200)"
      ]
     },
     "execution_count": 124,
     "metadata": {},
     "output_type": "execute_result"
    }
   ],
   "source": [
    "# create a weight matrix for words in training docs\n",
    "matrix_embedding = np.zeros((size_vocabulary, 200))\n",
    "for word, i in t.word_index.items():\n",
    "    try:\n",
    "        embedding_vector = embeddings_index[word]\n",
    "    except:\n",
    "        embedding_vector = [0]*200\n",
    "    \n",
    "    matrix_embedding[i] = embedding_vector\n",
    "        \n",
    "matrix_embedding.shape"
   ]
  },
  {
   "cell_type": "code",
   "execution_count": 125,
   "metadata": {
    "ExecuteTime": {
     "end_time": "2020-03-30T17:22:33.025365Z",
     "start_time": "2020-03-30T17:22:33.018339Z"
    }
   },
   "outputs": [],
   "source": [
    "#  To handle case of division by zero, custom precision, recall and f1 score have been defined\n",
    "\n",
    "def recall_m(y_true, y_pred):\n",
    "        true_positives = K.sum(K.round(K.clip(y_true * y_pred, 0, 1)))\n",
    "        possible_positives = K.sum(K.round(K.clip(y_true, 0, 1)))\n",
    "        recall = true_positives / (possible_positives + K.epsilon())\n",
    "        return recall\n",
    "\n",
    "def precision_m(y_true, y_pred):\n",
    "        true_positives = K.sum(K.round(K.clip(y_true * y_pred, 0, 1)))\n",
    "        predicted_positives = K.sum(K.round(K.clip(y_pred, 0, 1)))\n",
    "        precision = true_positives / (predicted_positives + K.epsilon())\n",
    "        return precision\n",
    "\n",
    "def f1_m(y_true, y_pred):\n",
    "    precision = precision_m(y_true, y_pred)\n",
    "    recall = recall_m(y_true, y_pred)\n",
    "    return 2*((precision*recall)/(precision+recall+K.epsilon()))"
   ]
  },
  {
   "cell_type": "code",
   "execution_count": 126,
   "metadata": {
    "ExecuteTime": {
     "end_time": "2020-03-30T17:31:59.784274Z",
     "start_time": "2020-03-30T17:31:59.354494Z"
    }
   },
   "outputs": [
    {
     "name": "stdout",
     "output_type": "stream",
     "text": [
      "Model: \"model_2\"\n",
      "_________________________________________________________________\n",
      "Layer (type)                 Output Shape              Param #   \n",
      "=================================================================\n",
      "main_input (InputLayer)      [(None, 140)]             0         \n",
      "_________________________________________________________________\n",
      "embedding_2 (Embedding)      (None, 140, 200)          3333200   \n",
      "_________________________________________________________________\n",
      "conv1d_4 (Conv1D)            (None, 137, 50)           40050     \n",
      "_________________________________________________________________\n",
      "max_pooling1d_4 (MaxPooling1 (None, 68, 50)            0         \n",
      "_________________________________________________________________\n",
      "conv1d_5 (Conv1D)            (None, 66, 100)           15100     \n",
      "_________________________________________________________________\n",
      "max_pooling1d_5 (MaxPooling1 (None, 33, 100)           0         \n",
      "_________________________________________________________________\n",
      "flatten_2 (Flatten)          (None, 3300)              0         \n",
      "_________________________________________________________________\n",
      "fully_connected (Dense)      (None, 100)               330100    \n",
      "_________________________________________________________________\n",
      "dense_2 (Dense)              (None, 3)                 303       \n",
      "=================================================================\n",
      "Total params: 3,718,753\n",
      "Trainable params: 385,553\n",
      "Non-trainable params: 3,333,200\n",
      "_________________________________________________________________\n",
      "None\n"
     ]
    }
   ],
   "source": [
    "data_inp = Input(shape=(140,), name='main_input')\n",
    "layer_embed = Embedding(size_vocabulary, 200, weights=[matrix_embedding], trainable=False)(data_inp)\n",
    "conv_layer_1 = Conv1D(filters=50, kernel_size=4, activation='relu')(layer_embed)\n",
    "max_layer_1 = MaxPooling1D(pool_size=2)(conv_layer_1)\n",
    "conv_layer_2 = Conv1D(filters=100, kernel_size=3, activation='relu')(max_layer_1)\n",
    "max_layer_2 = MaxPooling1D(pool_size=2)(conv_layer_2)\n",
    "flatten_layer = Flatten()(max_layer_2)\n",
    "dense = Dense(100, activation='relu', name='fully_connected')(flatten_layer)\n",
    "out_layer = Dense(3, activation='softmax')(dense)\n",
    "\n",
    "model_one = Model(inputs=[data_inp], outputs=[out_layer])\n",
    "\n",
    "print(model_one.summary())"
   ]
  },
  {
   "cell_type": "code",
   "execution_count": 127,
   "metadata": {
    "ExecuteTime": {
     "end_time": "2020-03-30T17:39:24.941262Z",
     "start_time": "2020-03-30T17:39:24.842799Z"
    }
   },
   "outputs": [
    {
     "data": {
      "image/png": "[encoded data removed]",
      "text/plain": [
       "<IPython.core.display.Image object>"
      ]
     },
     "execution_count": 127,
     "metadata": {},
     "output_type": "execute_result"
    }
   ],
   "source": [
    "plot_model(model_one, to_file='model_one.png')"
   ]
  },
  {
   "cell_type": "code",
   "execution_count": 128,
   "metadata": {
    "ExecuteTime": {
     "end_time": "2020-03-30T17:31:59.791586Z",
     "start_time": "2020-03-30T17:31:59.786917Z"
    }
   },
   "outputs": [],
   "source": [
    "check_point = ModelCheckpoint(\"models/senti_model.h5\", mode=\"max\", monitor=\"val_f1_m\", verbose=1, save_best_only = True)\n",
    "early_stop = EarlyStopping(mode=\"max\", monitor = 'val_f1_m', patience = 5, min_delta = 0,  verbose=1)\n",
    "reduce_lr = ReduceLROnPlateau(factor=0.5, patience=5, monitor='val_f1_m', verbose=10, mode = 'max',  min_lr=0.0001)"
   ]
  },
  {
   "cell_type": "code",
   "execution_count": 129,
   "metadata": {
    "ExecuteTime": {
     "end_time": "2020-03-30T17:33:41.877709Z",
     "start_time": "2020-03-30T17:31:59.794662Z"
    },
    "scrolled": true
   },
   "outputs": [
    {
     "name": "stdout",
     "output_type": "stream",
     "text": [
      "Epoch 1/30\n",
      "97/97 [==============================] - 5s 45ms/step - loss: 1.0646 - f1_m: 0.1166 - acc: 0.4109 - val_loss: 0.9843 - val_f1_m: 0.2807 - val_acc: 0.4916\n",
      "\n",
      "Epoch 00001: val_f1_m improved from -inf to 0.28075, saving model to models\\senti_model.h5\n",
      "Epoch 2/30\n",
      "97/97 [==============================] - 4s 42ms/step - loss: 0.9747 - f1_m: 0.3074 - acc: 0.5030 - val_loss: 0.9478 - val_f1_m: 0.3899 - val_acc: 0.5316\n",
      "\n",
      "Epoch 00002: val_f1_m improved from 0.28075 to 0.38994, saving model to models\\senti_model.h5\n",
      "Epoch 3/30\n",
      "97/97 [==============================] - 4s 44ms/step - loss: 0.9247 - f1_m: 0.4282 - acc: 0.5506 - val_loss: 0.9124 - val_f1_m: 0.4490 - val_acc: 0.5639\n",
      "\n",
      "Epoch 00003: val_f1_m improved from 0.38994 to 0.44898, saving model to models\\senti_model.h5\n",
      "Epoch 4/30\n",
      "97/97 [==============================] - 4s 43ms/step - loss: 0.8750 - f1_m: 0.4987 - acc: 0.5871 - val_loss: 0.8778 - val_f1_m: 0.5507 - val_acc: 0.5813\n",
      "\n",
      "Epoch 00004: val_f1_m improved from 0.44898 to 0.55069, saving model to models\\senti_model.h5\n",
      "Epoch 5/30\n",
      "97/97 [==============================] - 4s 43ms/step - loss: 0.8282 - f1_m: 0.5755 - acc: 0.6215 - val_loss: 0.8290 - val_f1_m: 0.5730 - val_acc: 0.6123\n",
      "\n",
      "Epoch 00005: val_f1_m improved from 0.55069 to 0.57300, saving model to models\\senti_model.h5\n",
      "Epoch 6/30\n",
      "97/97 [==============================] - 4s 42ms/step - loss: 0.7721 - f1_m: 0.6180 - acc: 0.6562 - val_loss: 0.8045 - val_f1_m: 0.6055 - val_acc: 0.6245\n",
      "\n",
      "Epoch 00006: val_f1_m improved from 0.57300 to 0.60547, saving model to models\\senti_model.h5\n",
      "Epoch 7/30\n",
      "97/97 [==============================] - 4s 43ms/step - loss: 0.7276 - f1_m: 0.6590 - acc: 0.6906 - val_loss: 0.7877 - val_f1_m: 0.6235 - val_acc: 0.6394\n",
      "\n",
      "Epoch 00007: val_f1_m improved from 0.60547 to 0.62353, saving model to models\\senti_model.h5\n",
      "Epoch 8/30\n",
      "97/97 [==============================] - 4s 43ms/step - loss: 0.6799 - f1_m: 0.6918 - acc: 0.7105 - val_loss: 0.7758 - val_f1_m: 0.6371 - val_acc: 0.6484\n",
      "\n",
      "Epoch 00008: val_f1_m improved from 0.62353 to 0.63711, saving model to models\\senti_model.h5\n",
      "Epoch 9/30\n",
      "97/97 [==============================] - 4s 42ms/step - loss: 0.6719 - f1_m: 0.6930 - acc: 0.7076 - val_loss: 0.7708 - val_f1_m: 0.6408 - val_acc: 0.6535\n",
      "\n",
      "Epoch 00009: val_f1_m improved from 0.63711 to 0.64085, saving model to models\\senti_model.h5\n",
      "Epoch 10/30\n",
      "97/97 [==============================] - 4s 44ms/step - loss: 0.6197 - f1_m: 0.7277 - acc: 0.7486 - val_loss: 0.7753 - val_f1_m: 0.6364 - val_acc: 0.6561\n",
      "\n",
      "Epoch 00010: val_f1_m did not improve from 0.64085\n",
      "Epoch 11/30\n",
      "97/97 [==============================] - 4s 44ms/step - loss: 0.5796 - f1_m: 0.7498 - acc: 0.7622 - val_loss: 0.7628 - val_f1_m: 0.6479 - val_acc: 0.6600\n",
      "\n",
      "Epoch 00011: val_f1_m improved from 0.64085 to 0.64795, saving model to models\\senti_model.h5\n",
      "Epoch 12/30\n",
      "97/97 [==============================] - 5s 47ms/step - loss: 0.5541 - f1_m: 0.7598 - acc: 0.7720 - val_loss: 0.7853 - val_f1_m: 0.6456 - val_acc: 0.6613\n",
      "\n",
      "Epoch 00012: val_f1_m did not improve from 0.64795\n",
      "Epoch 13/30\n",
      "97/97 [==============================] - 5s 48ms/step - loss: 0.5053 - f1_m: 0.7960 - acc: 0.8045 - val_loss: 0.7720 - val_f1_m: 0.6518 - val_acc: 0.6677\n",
      "\n",
      "Epoch 00013: val_f1_m improved from 0.64795 to 0.65181, saving model to models\\senti_model.h5\n",
      "Epoch 14/30\n",
      "97/97 [==============================] - 4s 43ms/step - loss: 0.4833 - f1_m: 0.8096 - acc: 0.8132 - val_loss: 0.7794 - val_f1_m: 0.6531 - val_acc: 0.6619\n",
      "\n",
      "Epoch 00014: val_f1_m improved from 0.65181 to 0.65315, saving model to models\\senti_model.h5\n",
      "Epoch 15/30\n",
      "97/97 [==============================] - 4s 44ms/step - loss: 0.4461 - f1_m: 0.8301 - acc: 0.8365 - val_loss: 0.7849 - val_f1_m: 0.6566 - val_acc: 0.6671\n",
      "\n",
      "Epoch 00015: val_f1_m improved from 0.65315 to 0.65657, saving model to models\\senti_model.h5\n",
      "Epoch 16/30\n",
      "97/97 [==============================] - 4s 45ms/step - loss: 0.4106 - f1_m: 0.8492 - acc: 0.8560 - val_loss: 0.8072 - val_f1_m: 0.6425 - val_acc: 0.6529\n",
      "\n",
      "Epoch 00016: val_f1_m did not improve from 0.65657\n",
      "Epoch 17/30\n",
      "97/97 [==============================] - 4s 43ms/step - loss: 0.3714 - f1_m: 0.8726 - acc: 0.8781 - val_loss: 0.8186 - val_f1_m: 0.6606 - val_acc: 0.6703\n",
      "\n",
      "Epoch 00017: val_f1_m improved from 0.65657 to 0.66059, saving model to models\\senti_model.h5\n",
      "Epoch 18/30\n",
      "97/97 [==============================] - 4s 44ms/step - loss: 0.3534 - f1_m: 0.8809 - acc: 0.8801 - val_loss: 0.8416 - val_f1_m: 0.6609 - val_acc: 0.6658\n",
      "\n",
      "Epoch 00018: val_f1_m improved from 0.66059 to 0.66088, saving model to models\\senti_model.h5\n",
      "Epoch 19/30\n",
      "97/97 [==============================] - 4s 44ms/step - loss: 0.3098 - f1_m: 0.9078 - acc: 0.9084 - val_loss: 0.8430 - val_f1_m: 0.6555 - val_acc: 0.6632\n",
      "\n",
      "Epoch 00019: val_f1_m did not improve from 0.66088\n",
      "Epoch 20/30\n",
      "97/97 [==============================] - 4s 45ms/step - loss: 0.2874 - f1_m: 0.9154 - acc: 0.9197 - val_loss: 0.8617 - val_f1_m: 0.6468 - val_acc: 0.6503\n",
      "\n",
      "Epoch 00020: val_f1_m did not improve from 0.66088\n",
      "Epoch 21/30\n",
      "97/97 [==============================] - 4s 44ms/step - loss: 0.2511 - f1_m: 0.9363 - acc: 0.9373 - val_loss: 0.9140 - val_f1_m: 0.6629 - val_acc: 0.6658\n",
      "\n",
      "Epoch 00021: val_f1_m improved from 0.66088 to 0.66287, saving model to models\\senti_model.h5\n",
      "Epoch 22/30\n",
      "97/97 [==============================] - 4s 45ms/step - loss: 0.2343 - f1_m: 0.9382 - acc: 0.9412 - val_loss: 0.9108 - val_f1_m: 0.6415 - val_acc: 0.6452\n",
      "\n",
      "Epoch 00022: val_f1_m did not improve from 0.66287\n",
      "Epoch 23/30\n",
      "97/97 [==============================] - 4s 44ms/step - loss: 0.2043 - f1_m: 0.9569 - acc: 0.9594 - val_loss: 0.9473 - val_f1_m: 0.6378 - val_acc: 0.6400\n",
      "\n",
      "Epoch 00023: val_f1_m did not improve from 0.66287\n",
      "Epoch 24/30\n",
      "97/97 [==============================] - 4s 45ms/step - loss: 0.1862 - f1_m: 0.9626 - acc: 0.9635 - val_loss: 0.9583 - val_f1_m: 0.6386 - val_acc: 0.6426\n",
      "\n",
      "Epoch 00024: val_f1_m did not improve from 0.66287\n",
      "Epoch 25/30\n",
      "97/97 [==============================] - 4s 44ms/step - loss: 0.1620 - f1_m: 0.9707 - acc: 0.9726 - val_loss: 0.9931 - val_f1_m: 0.6369 - val_acc: 0.6406\n",
      "\n",
      "Epoch 00025: val_f1_m did not improve from 0.66287\n",
      "Epoch 26/30\n",
      "97/97 [==============================] - 4s 42ms/step - loss: 0.1376 - f1_m: 0.9793 - acc: 0.9802 - val_loss: 1.0185 - val_f1_m: 0.6339 - val_acc: 0.6413\n",
      "\n",
      "Epoch 00026: val_f1_m did not improve from 0.66287\n",
      "Epoch 00026: early stopping\n"
     ]
    }
   ],
   "source": [
    "c = optimizers.Adam(lr = 0.0001)\n",
    "model_one.compile(optimizer=c, loss='categorical_crossentropy', metrics=[f1_m, 'acc'])\n",
    "\n",
    "h1 = model_one.fit(pad_train, y_train, verbose=1, epochs=30, batch_size=64, callbacks=[check_point, early_stop, reduce_lr], \n",
    "               validation_split=0.2)"
   ]
  },
  {
   "cell_type": "code",
   "execution_count": 135,
   "metadata": {
    "ExecuteTime": {
     "end_time": "2020-03-30T17:33:45.205931Z",
     "start_time": "2020-03-30T17:33:44.891032Z"
    }
   },
   "outputs": [
    {
     "name": "stdout",
     "output_type": "stream",
     "text": [
      "[[146  57 108]\n",
      " [ 68 445 216]\n",
      " [119 168 610]]\n"
     ]
    },
    {
     "data": {
      "text/plain": [
       "<AxesSubplot:>"
      ]
     },
     "execution_count": 135,
     "metadata": {},
     "output_type": "execute_result"
    },
    {
     "data": {
      "image/png": "[encoded data removed]",
      "text/plain": [
       "<Figure size 432x288 with 2 Axes>"
      ]
     },
     "metadata": {
      "needs_background": "light"
     },
     "output_type": "display_data"
    }
   ],
   "source": [
    "conf_matrix = confusion_matrix(np.argmax(y_test, axis=1), np.argmax(model_one.predict(pad_test), axis=1))\n",
    "\n",
    "print(conf_matrix)\n",
    "\n",
    "sns.heatmap(conf_matrix, fmt='g', linewidths=.5, annot=True,  yticklabels=['Act 0', 'Act 1', 'Act 2'], \n",
    "            xticklabels=['Pred 0', 'Pred 1', 'Pred 2'])"
   ]
  },
  {
   "cell_type": "code",
   "execution_count": 137,
   "metadata": {
    "ExecuteTime": {
     "end_time": "2020-03-30T17:34:49.621816Z",
     "start_time": "2020-03-30T17:34:49.137383Z"
    }
   },
   "outputs": [
    {
     "name": "stdout",
     "output_type": "stream",
     "text": [
      "61/61 [==============================] - 1s 8ms/step - loss: 1.0702 - f1_m: 0.6140 - acc: 0.6200\n",
      "['loss', 'f1_m', 'acc']\n",
      "[1.070155382156372, 0.6139673590660095, 0.6200309991836548]\n"
     ]
    }
   ],
   "source": [
    "score_model_one = model_one.evaluate(pad_test, y_test)\n",
    "print(model_one.metrics_names)\n",
    "print(score_model_one)"
   ]
  },
  {
   "cell_type": "code",
   "execution_count": 140,
   "metadata": {
    "ExecuteTime": {
     "end_time": "2020-03-30T17:36:56.881420Z",
     "start_time": "2020-03-30T17:36:56.653918Z"
    }
   },
   "outputs": [
    {
     "data": {
      "image/png": "[encoded data removed]",
      "text/plain": [
       "<Figure size 432x288 with 1 Axes>"
      ]
     },
     "metadata": {
      "needs_background": "light"
     },
     "output_type": "display_data"
    }
   ],
   "source": [
    "plt.plot(h1.history['loss'][1:])\n",
    "plt.plot(h1.history['val_loss'][1:])\n",
    "plt.title('Model Loss Metrics')\n",
    "plt.ylabel('loss')\n",
    "plt.xlabel('epochs')\n",
    "plt.legend(['train','validation'], loc='lower left')\n",
    "plt.show()"
   ]
  },
  {
   "cell_type": "code",
   "execution_count": 141,
   "metadata": {
    "ExecuteTime": {
     "end_time": "2020-03-30T17:36:57.678999Z",
     "start_time": "2020-03-30T17:36:57.472746Z"
    }
   },
   "outputs": [
    {
     "data": {
      "image/png": "[encoded data removed]",
      "text/plain": [
       "<Figure size 432x288 with 1 Axes>"
      ]
     },
     "metadata": {
      "needs_background": "light"
     },
     "output_type": "display_data"
    }
   ],
   "source": [
    "plt.plot(h1.history['f1_m'][1:])\n",
    "plt.plot(h1.history['val_f1_m'][1:])\n",
    "plt.title('Model performance')\n",
    "plt.ylabel('F1 value')\n",
    "plt.xlabel('epochs')\n",
    "plt.legend(['train','validation'], loc='lower right')\n",
    "plt.show()\n"
   ]
  },
  {
   "cell_type": "code",
   "execution_count": null,
   "metadata": {},
   "outputs": [],
   "source": []
  }
 ],
 "metadata": {
  "kernelspec": {
   "display_name": "Python 3",
   "language": "python",
   "name": "python3"
  },
  "language_info": {
   "codemirror_mode": {
    "name": "ipython",
    "version": 3
   },
   "file_extension": ".py",
   "mimetype": "text/x-python",
   "name": "python",
   "nbconvert_exporter": "python",
   "pygments_lexer": "ipython3",
   "version": "3.8.5"
  },
  "toc": {
   "base_numbering": 1,
   "nav_menu": {},
   "number_sections": true,
   "sideBar": true,
   "skip_h1_title": false,
   "title_cell": "Table of Contents",
   "title_sidebar": "Contents",
   "toc_cell": false,
   "toc_position": {},
   "toc_section_display": true,
   "toc_window_display": false
  }
 },
 "nbformat": 4,
 "nbformat_minor": 2
}
