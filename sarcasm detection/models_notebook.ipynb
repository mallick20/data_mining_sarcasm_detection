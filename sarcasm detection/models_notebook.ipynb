{
 "cells": [
  {
   "cell_type": "code",
   "execution_count": 1,
   "metadata": {
    "colab": {
     "base_uri": "https://localhost:8080/"
    },
    "id": "EmD6HUpoQzWK",
    "outputId": "8d6470d0-ddda-4c3f-83d6-f91c5117ad8d"
   },
   "outputs": [
    {
     "name": "stdout",
     "output_type": "stream",
     "text": [
      "Mounted at /content/drive\n"
     ]
    }
   ],
   "source": [
    "from google.colab import drive\n",
    "drive.mount(\"/content/drive\")"
   ]
  },
  {
   "cell_type": "markdown",
   "metadata": {
    "id": "RQ3s0i0w8ZZM"
   },
   "source": [
    "REQUIRED PACKAGES\n"
   ]
  },
  {
   "cell_type": "code",
   "execution_count": 2,
   "metadata": {
    "id": "qLQdvg3EZb-U"
   },
   "outputs": [],
   "source": [
    "import pandas as pd\n",
    "import numpy as np\n",
    "from time import time\n",
    "from tqdm import tqdm_notebook\n",
    "import matplotlib.pyplot as plt\n",
    "import seaborn as sns\n",
    "import pickle\n",
    "\n",
    "import keras\n",
    "from keras.utils import plot_model\n",
    "import tensorflow as tf\n",
    "from keras.utils import to_categorical\n",
    "from keras.preprocessing.text import Tokenizer\n",
    "from keras.preprocessing.sequence import pad_sequences\n",
    "from keras.models import Model,load_model,model_from_json\n",
    "from keras.layers import Dense, Input, Flatten, Embedding, Conv1D, MaxPooling1D, Dropout, BatchNormalization, Activation, concatenate\n",
    "from keras import backend as bK\n",
    "from keras.callbacks import ModelCheckpoint, TensorBoard, EarlyStopping\n",
    "from keras import optimizers\n",
    "\n",
    "from sklearn.linear_model import SGDClassifier\n",
    "from sklearn.calibration import CalibratedClassifierCV\n",
    "from sklearn.metrics import f1_score\n",
    "from sklearn.metrics import confusion_matrix\n",
    "from sklearn.model_selection import train_test_split\n",
    "import pydotplus as pyd\n",
    "\n",
    "import gensim\n",
    "from gensim.models import Word2Vec\n",
    "from gensim.models import KeyedVectors\n",
    "\n",
    "import warnings\n",
    "warnings.filterwarnings('ignore')\n",
    "\n",
    "%matplotlib inline"
   ]
  },
  {
   "cell_type": "markdown",
   "metadata": {
    "id": "xwze6mfJdTKw"
   },
   "source": [
    "DATA LOADER\n"
   ]
  },
  {
   "cell_type": "code",
   "execution_count": 28,
   "metadata": {
    "id": "lA9JAQq-n5hp"
   },
   "outputs": [],
   "source": [
    "df = pd.read_csv(\"data/tweets-en.csv\")\n",
    "df = df.rename({'Text':'text'},axis=1)\n",
    "df = df.dropna()\n",
    "\n",
    "df_train = df.iloc[:320000]\n",
    "df_test = df.iloc[320000:360000]\n",
    "df_cv = df.iloc[360000:400000]\n",
    "\n",
    "X_train = df_train[df_train.columns[:-1]]\n",
    "y_train = df_train[df_train.columns[-1]]\n",
    "\n",
    "X_test = df_test[df_test.columns[:-1]]\n",
    "y_test = df_test[df_test.columns[-1]]\n",
    "\n",
    "X_cv = df_cv[df_cv.columns[:-1]]\n",
    "y_cv = df_cv[df_cv.columns[-1]]"
   ]
  },
  {
   "cell_type": "code",
   "execution_count": 29,
   "metadata": {
    "colab": {
     "base_uri": "https://localhost:8080/"
    },
    "id": "y68elRxYn7-R",
    "outputId": "7b14a4f0-81ba-40cb-fbd4-2332e4f6c614"
   },
   "outputs": [
    {
     "name": "stdout",
     "output_type": "stream",
     "text": [
      "<class 'pandas.core.frame.DataFrame'>\n",
      "Int64Index: 1010773 entries, 0 to 1010825\n",
      "Data columns (total 2 columns):\n",
      " #   Column  Non-Null Count    Dtype \n",
      "---  ------  --------------    ----- \n",
      " 0   text    1010773 non-null  object\n",
      " 1   Label   1010773 non-null  int64 \n",
      "dtypes: int64(1), object(1)\n",
      "memory usage: 23.1+ MB\n",
      "None\n",
      "0    175274\n",
      "1    144726\n",
      "Name: Label, dtype: int64\n",
      "0    20800\n",
      "1    19200\n",
      "Name: Label, dtype: int64\n",
      "1    20439\n",
      "0    19561\n",
      "Name: Label, dtype: int64\n",
      "(320000, 1) (320000,)\n",
      "(40000, 1) (40000,)\n",
      "(40000, 1) (40000,)\n"
     ]
    }
   ],
   "source": [
    "print(df.info())\n",
    "\n",
    "print(y_train.value_counts())\n",
    "print(y_test.value_counts())\n",
    "print(y_cv.value_counts())\n",
    "print(X_train.shape,y_train.shape)\n",
    "print(X_test.shape,y_test.shape)\n",
    "print(X_cv.shape,y_cv.shape)"
   ]
  },
  {
   "cell_type": "markdown",
   "metadata": {
    "id": "Zs-aAGxp0MVQ"
   },
   "source": [
    "PREPROCESSING STEPS"
   ]
  },
  {
   "cell_type": "code",
   "execution_count": 30,
   "metadata": {
    "colab": {
     "base_uri": "https://localhost:8080/"
    },
    "id": "7aSukDHQZb-b",
    "outputId": "d77ce81b-65f7-40cc-8636-0f72a89087c2"
   },
   "outputs": [
    {
     "name": "stdout",
     "output_type": "stream",
     "text": [
      "96813\n",
      "2222\n",
      "67.0\n"
     ]
    }
   ],
   "source": [
    "#Creating text tokenizer so that all data have same length\n",
    "\n",
    "tokenizer = Tokenizer()\n",
    "tokenizer.fit_on_texts(X_train[\"text\"].values)\n",
    "vocab_size = len(tokenizer.word_index) + 1\n",
    "print(vocab_size)\n",
    "\n",
    "X_train_encoded = tokenizer.texts_to_sequences(X_train[\"text\"])\n",
    "X_test_encoded = tokenizer.texts_to_sequences(X_test[\"text\"])\n",
    "X_cv_encoded = tokenizer.texts_to_sequences(X_cv[\"text\"])\n",
    "\n",
    "lengths = []\n",
    "for encoded_tweet in X_train_encoded:\n",
    "    lengths.append(len(encoded_tweet))\n",
    "max_length = max(lengths)\n",
    "print(max_length)\n",
    "print(np.percentile(lengths,99.9))"
   ]
  },
  {
   "cell_type": "code",
   "execution_count": 31,
   "metadata": {
    "id": "__jn4NbZquhP"
   },
   "outputs": [],
   "source": [
    "#Creating padded sequences\n",
    "encoding_length = 140\n",
    "\n",
    "X_train_padded = pad_sequences(X_train_encoded, maxlen=encoding_length, padding='post')\n",
    "X_test_padded = pad_sequences(X_test_encoded, maxlen=encoding_length, padding='post')\n",
    "X_cv_padded = pad_sequences(X_cv_encoded, maxlen=encoding_length,padding='post')\n",
    "\n",
    "y_train = to_categorical(y_train, num_classes=2)\n",
    "y_test = to_categorical(y_test, num_classes=2)\n",
    "y_cv = to_categorical(y_cv, num_classes=2)"
   ]
  },
  {
   "cell_type": "code",
   "execution_count": null,
   "metadata": {
    "id": "XvRoBLFGZb-f"
   },
   "outputs": [],
   "source": [
    "#Creating a embedding vector of each word in vocabulary from pretrained vectors\n",
    "\n",
    "# w2v_model = KeyedVectors.load_word2vec_format('/kaggle/input/nlpword2vecembeddingspretrained/GoogleNews-vectors-negative300.bin', binary=True)\n",
    "# embedding_matrix_w2v = np.zeros((vocab_size, 300))\n",
    "# for word, i in tkn.word_index.items():\n",
    "#     try:\n",
    "#         embedding_vector = w2v_model[word]\n",
    "#     except:\n",
    "#         embedding_vector = [0]*300\n",
    "    \n",
    "#     if embedding_vector is not None:\n",
    "#         embedding_matrix_w2v[i] = embedding_vector\n",
    "        \n",
    "# embedding_matrix_w2v.shape"
   ]
  },
  {
   "cell_type": "code",
   "execution_count": 8,
   "metadata": {
    "id": "Zf2YaUC3har3"
   },
   "outputs": [],
   "source": [
    "embeddings = pd.read_csv(\"/data_mining_sarcasm_detection/embeddings/embeddings_w2v\")\n",
    "embeddings.drop(embeddings.columns[0],axis=1,inplace=True)\n",
    "embedding_matrix_w2v = embeddings.to_numpy()"
   ]
  },
  {
   "cell_type": "markdown",
   "metadata": {
    "id": "Zx51yptjIH4I"
   },
   "source": [
    "Model Metric Functions"
   ]
  },
  {
   "cell_type": "code",
   "execution_count": 13,
   "metadata": {
    "id": "T8NaRiwOZb-g"
   },
   "outputs": [],
   "source": [
    "def precision_md(y_true, y_pred):\n",
    "        true_positives = bK.sum(bK.round(bK.clip(y_true * y_pred, 0, 1)))\n",
    "        predicted_positives = bK.sum(bK.round(bK.clip(y_pred, 0, 1)))\n",
    "        precision = true_positives / (predicted_positives + bK.epsilon())\n",
    "        return precision\n",
    "\n",
    "def recall_md(y_true, y_pred):\n",
    "        true_positives = bK.sum(bK.round(bK.clip(y_true * y_pred, 0, 1)))\n",
    "        possible_positives = bK.sum(bK.round(bK.clip(y_true, 0, 1)))\n",
    "        recall = true_positives / (possible_positives + bK.epsilon())\n",
    "        return recall\n",
    "\n",
    "def f1_md(y_true, y_pred):\n",
    "    precision = precision_md(y_true, y_pred)\n",
    "    recall = recall_md(y_true, y_pred)\n",
    "    return 2*((precision*recall)/(precision+recall+ bK.epsilon()))"
   ]
  },
  {
   "cell_type": "markdown",
   "metadata": {
    "id": "DyD8BCcGZb-h"
   },
   "source": [
    "## Model 1: Baseline"
   ]
  },
  {
   "cell_type": "code",
   "execution_count": null,
   "metadata": {
    "id": "dr3lzgKMZb-i"
   },
   "outputs": [],
   "source": [
    "#Creating callbacks\n",
    "tensor_board = TensorBoard(log_dir=\"baseline\")\n",
    "\n",
    "check_point = ModelCheckpoint(\"baseline_model.h5\", \n",
    "                               monitor=\"val_f1_md\", \n",
    "                               mode=\"max\", \n",
    "                               save_best_only = True, \n",
    "                               verbose=1)\n",
    "\n",
    "early_stop = EarlyStopping(monitor = 'val_f1_md', \n",
    "                            min_delta = 0, \n",
    "                            patience =32,\n",
    "                            verbose=1,\n",
    "                            restore_best_weights=True)"
   ]
  },
  {
   "cell_type": "code",
   "execution_count": null,
   "metadata": {
    "id": "41hD9q7pZb-h"
   },
   "outputs": [],
   "source": [
    "#Model Architecture\n",
    "\n",
    "input_data = Input(shape=(140,), name='main_input')\n",
    "embedding_layer = Embedding(vocab_size, 300, weights=[embedding_matrix_w2v], trainable=False)(input_data)\n",
    "conv1_1 = Conv1D(filters=50, kernel_size=4, activation='relu')(embedding_layer)\n",
    "maxp_1 = MaxPooling1D(pool_size=2)(conv1_1)\n",
    "conv1_2 = Conv1D(filters=100, kernel_size=3, activation='relu')(maxp_1)\n",
    "maxp_2 = MaxPooling1D(pool_size=2)(conv1_2)\n",
    "flatten_ = Flatten()(maxp_2)\n",
    "dense = Dense(100, activation='relu', name='fully_connected')(flatten_)\n",
    "output = Dense(2, activation='softmax')(dense)\n",
    "\n",
    "baseline_model = Model(inputs=[input_data], outputs=[output])\n",
    "\n",
    "print(baseline_model.summary())"
   ]
  },
  {
   "cell_type": "code",
   "execution_count": null,
   "metadata": {
    "id": "CeAb0hvQZb-i"
   },
   "outputs": [],
   "source": [
    "baseline_model.compile(optimizer='Adam', loss='categorical_crossentropy', metrics=[f1_md,'acc'])\n",
    "\n",
    "history_baseline = baseline_model.fit(X_train_padded, y_train, \n",
    "               batch_size=64, \n",
    "               epochs=10, \n",
    "               verbose=1,\n",
    "               callbacks=[tensor_board,check_point,early_stop],\n",
    "               validation_data=(X_cv_padded, y_cv))"
   ]
  },
  {
   "cell_type": "code",
   "execution_count": null,
   "metadata": {
    "colab": {
     "base_uri": "https://localhost:8080/"
    },
    "id": "kdD6K2XNZb-j",
    "outputId": "88ccef97-0b2f-4735-adcd-4b72769be1ee"
   },
   "outputs": [
    {
     "name": "stdout",
     "output_type": "stream",
     "text": [
      "393/393 [==============================] - 3s 7ms/step - loss: 0.0032 - acc: 0.9997\n",
      "[0.0032197802793234587, 0.9996815919876099]\n"
     ]
    }
   ],
   "source": [
    "baseline_score = baseline_model.evaluate(X_test_padded, y_test)\n",
    "print(baseline_score)"
   ]
  },
  {
   "cell_type": "code",
   "execution_count": null,
   "metadata": {
    "colab": {
     "base_uri": "https://localhost:8080/",
     "height": 316
    },
    "id": "56XDQINcZb-j",
    "outputId": "55e3a9e3-88f4-4378-cf96-d648cf4dd8d6"
   },
   "outputs": [
    {
     "name": "stdout",
     "output_type": "stream",
     "text": [
      "[[6721    0]\n",
      " [   4 5837]]\n"
     ]
    },
    {
     "data": {
      "text/plain": [
       "<matplotlib.axes._subplots.AxesSubplot at 0x7fcaddfe77d0>"
      ]
     },
     "execution_count": 38,
     "metadata": {
      "tags": []
     },
     "output_type": "execute_result"
    },
    {
     "data": {
      "image/png": "[encoded data removed]",
      "text/plain": [
       "<Figure size 432x288 with 2 Axes>"
      ]
     },
     "metadata": {
      "needs_background": "light",
      "tags": []
     },
     "output_type": "display_data"
    }
   ],
   "source": [
    "con_mat = confusion_matrix(np.argmax(y_test, axis=1), np.argmax(baseline_model.predict(X_test_padded), axis=1))\n",
    "\n",
    "print(con_mat)\n",
    "sns.heatmap(con_mat, annot=True, fmt='g', linewidths=.5, xticklabels=['Predicted 0', 'Predicted 1'], \n",
    "            yticklabels=['Actual 0', 'Actual 1'])"
   ]
  },
  {
   "cell_type": "code",
   "execution_count": null,
   "metadata": {
    "colab": {
     "base_uri": "https://localhost:8080/",
     "height": 295
    },
    "id": "xvNdmYi_Zb-j",
    "outputId": "acc67f1f-f7ed-4fe0-c254-da544ac8bd39"
   },
   "outputs": [
    {
     "data": {
      "image/png": "[encoded data removed]",
      "text/plain": [
       "<Figure size 432x288 with 1 Axes>"
      ]
     },
     "metadata": {
      "needs_background": "light",
      "tags": []
     },
     "output_type": "display_data"
    }
   ],
   "source": [
    "plt.plot(history_baseline.history['f1_md'][1:])\n",
    "plt.plot(history_baseline.history['val_f1_md'][1:])\n",
    "plt.title('Model Metric')\n",
    "plt.ylabel('f1 score')\n",
    "plt.xlabel('epoch')\n",
    "plt.legend(['train','validation'], loc='upper left')\n",
    "plt.show()"
   ]
  },
  {
   "cell_type": "code",
   "execution_count": null,
   "metadata": {
    "colab": {
     "base_uri": "https://localhost:8080/",
     "height": 295
    },
    "id": "LNDlAMSBZb-j",
    "outputId": "17eb50ea-388e-4691-ec4c-855a66d1253e"
   },
   "outputs": [
    {
     "data": {
      "image/png": "[encoded data removed]",
      "text/plain": [
       "<Figure size 432x288 with 1 Axes>"
      ]
     },
     "metadata": {
      "needs_background": "light",
      "tags": []
     },
     "output_type": "display_data"
    }
   ],
   "source": [
    "plt.plot(history_baseline.history['loss'][1:])\n",
    "plt.plot(history_baseline.history['val_loss'][1:])\n",
    "plt.title('Model Loss')\n",
    "plt.ylabel('loss')\n",
    "plt.xlabel('epoch')\n",
    "plt.legend(['train','validation'], loc='upper left')\n",
    "plt.show()"
   ]
  },
  {
   "cell_type": "markdown",
   "metadata": {
    "id": "m75gjyUvZb-k"
   },
   "source": [
    "## Model 2: Baseline + Sentiments"
   ]
  },
  {
   "cell_type": "code",
   "execution_count": null,
   "metadata": {
    "id": "k70biYzZXQGI"
   },
   "outputs": [],
   "source": [
    "#Loading the pretrained sentiment model and sentiment tokenizer\n",
    "\n",
    "with open(\"json_senti.json\",\"r\") as json_file:\n",
    "  loaded_model_json = json_file.read()\n",
    "sentiment_model = model_from_json(loaded_model_json)\n",
    "sentiment_model.load_weights(\"model_senti.h5\")\n",
    "\n",
    "with open(\"sentiment_tokenizer.p\",\"rb\") as pickle_file:\n",
    "  sentiment_tokenizer = pickle.load(pickle_file)"
   ]
  },
  {
   "cell_type": "code",
   "execution_count": null,
   "metadata": {
    "colab": {
     "base_uri": "https://localhost:8080/"
    },
    "id": "cfcDNQp3Zb-l",
    "outputId": "0f40c98f-1e35-456e-edb5-9a591a6111c0"
   },
   "outputs": [
    {
     "name": "stdout",
     "output_type": "stream",
     "text": [
      "(320000, 100)\n"
     ]
    }
   ],
   "source": [
    "#Calculating the intermediate outputs from sentiment model\n",
    "\n",
    "X_train_encoded = sentiment_tokenizer.texts_to_sequences(X_train[\"text\"])\n",
    "X_test_encoded = sentiment_tokenizer.texts_to_sequences(X_test[\"text\"])\n",
    "X_cv_encoded = sentiment_tokenizer.texts_to_sequences(X_cv[\"text\"])\n",
    "\n",
    "X_train_padded = pad_sequences(X_train_encoded, maxlen=encoding_length, padding='post')\n",
    "X_test_padded = pad_sequences(X_test_encoded, maxlen=encoding_length, padding='post')\n",
    "X_cv_padded = pad_sequences(X_cv_encoded, maxlen=encoding_length, padding='post')\n",
    "\n",
    "output_layer_sentiment = 'fully_connected'\n",
    "intermediate_layer_sentiment = Model(inputs=sentiment_model.input, outputs=sentiment_model.get_layer(output_layer_sentiment).output)\n",
    "intermediate_output_train = intermediate_layer_sentiment.predict(X_train_padded)\n",
    "intermediate_output_test = intermediate_layer_sentiment.predict(X_test_padded)\n",
    "intermediate_output_cv = intermediate_layer_sentiment.predict(X_cv_padded)\n",
    "\n",
    "print(intermediate_output_train.shape)"
   ]
  },
  {
   "cell_type": "code",
   "execution_count": null,
   "metadata": {
    "id": "cgjKjCY7APkW"
   },
   "outputs": [],
   "source": [
    "X_train_2 = [X_train_padded, np.array(intermediate_output_train)]\n",
    "X_test_2 = [X_test_padded, np.array(intermediate_output_test)]\n",
    "X_cv_2 = [X_cv_padded, np.array(intermediate_output_cv)]"
   ]
  },
  {
   "cell_type": "code",
   "execution_count": null,
   "metadata": {
    "id": "NAkzZQRAZb-n"
   },
   "outputs": [],
   "source": [
    "#Creating callbacks\n",
    "\n",
    "tensor_board = TensorBoard(log_dir=\"base_senti\")\n",
    "\n",
    "check_point = ModelCheckpoint(\"base_senti.h5\", \n",
    "                               monitor=\"val_f1_md\", \n",
    "                               mode=\"max\", \n",
    "                               save_best_only = True, \n",
    "                               verbose=1)\n",
    "\n",
    "early_stop = EarlyStopping(monitor = 'val_f1_md', \n",
    "                            min_delta = 0, \n",
    "                            patience = 5,\n",
    "                            verbose=1,\n",
    "                            restore_best_weights=True)"
   ]
  },
  {
   "cell_type": "code",
   "execution_count": null,
   "metadata": {
    "colab": {
     "base_uri": "https://localhost:8080/"
    },
    "id": "p4hqunCxZb-m",
    "outputId": "d917f39a-d950-485a-9446-0f453731ae29"
   },
   "outputs": [
    {
     "name": "stdout",
     "output_type": "stream",
     "text": [
      "Model: \"model_2\"\n",
      "__________________________________________________________________________________________________\n",
      "Layer (type)                    Output Shape         Param #     Connected to                     \n",
      "==================================================================================================\n",
      "main_input (InputLayer)         [(None, 140)]        0                                            \n",
      "__________________________________________________________________________________________________\n",
      "embedding_1 (Embedding)         (None, 140, 300)     29043900    main_input[0][0]                 \n",
      "__________________________________________________________________________________________________\n",
      "conv1d_2 (Conv1D)               (None, 137, 50)      60050       embedding_1[0][0]                \n",
      "__________________________________________________________________________________________________\n",
      "max_pooling1d_2 (MaxPooling1D)  (None, 68, 50)       0           conv1d_2[0][0]                   \n",
      "__________________________________________________________________________________________________\n",
      "conv1d_3 (Conv1D)               (None, 66, 100)      15100       max_pooling1d_2[0][0]            \n",
      "__________________________________________________________________________________________________\n",
      "max_pooling1d_3 (MaxPooling1D)  (None, 33, 100)      0           conv1d_3[0][0]                   \n",
      "__________________________________________________________________________________________________\n",
      "flatten_1 (Flatten)             (None, 3300)         0           max_pooling1d_3[0][0]            \n",
      "__________________________________________________________________________________________________\n",
      "fully_connected (Dense)         (None, 100)          330100      flatten_1[0][0]                  \n",
      "__________________________________________________________________________________________________\n",
      "sentiment_input (InputLayer)    [(None, 100)]        0                                            \n",
      "__________________________________________________________________________________________________\n",
      "concatenate_1 (Concatenate)     (None, 200)          0           fully_connected[0][0]            \n",
      "                                                                 sentiment_input[0][0]            \n",
      "__________________________________________________________________________________________________\n",
      "dense_1 (Dense)                 (None, 2)            402         concatenate_1[0][0]              \n",
      "==================================================================================================\n",
      "Total params: 29,449,552\n",
      "Trainable params: 405,652\n",
      "Non-trainable params: 29,043,900\n",
      "__________________________________________________________________________________________________\n",
      "None\n"
     ]
    }
   ],
   "source": [
    "#Model Architecture\n",
    "\n",
    "input_data = Input(shape=(encoding_length,), name='main_input')\n",
    "embedding_layer = Embedding(vocab_size, 300, weights=[embedding_matrix_w2v], trainable=False)(input_data)\n",
    "conv1_1 = Conv1D(filters=50, kernel_size=4, activation='relu')(embedding_layer)\n",
    "maxp_1 = MaxPooling1D(pool_size=2)(conv1_1)\n",
    "conv1_2 = Conv1D(filters=100, kernel_size=3, activation='relu')(maxp_1)\n",
    "maxp_2 = MaxPooling1D(pool_size=2)(conv1_2)\n",
    "flatten_ = Flatten()(maxp_2)\n",
    "dense = Dense(100, activation='relu', name='fully_connected')(flatten_)\n",
    "\n",
    "input_senti = Input(shape=(100,), name='sentiment_input')\n",
    "concat = concatenate([dense, input_senti])\n",
    "output = Dense(2, activation='softmax')(concat)\n",
    "\n",
    "base_senti = Model(inputs=[input_data, input_senti], outputs=[output])\n",
    "\n",
    "print(base_senti.summary())"
   ]
  },
  {
   "cell_type": "code",
   "execution_count": null,
   "metadata": {
    "colab": {
     "base_uri": "https://localhost:8080/"
    },
    "id": "lnyOGSCyZb-n",
    "outputId": "df0efc9a-46fd-4c6c-b6e7-3dee324bb73d"
   },
   "outputs": [
    {
     "name": "stdout",
     "output_type": "stream",
     "text": [
      "Epoch 1/15\n",
      "5000/5000 [==============================] - 66s 13ms/step - loss: 0.6338 - f1_md: 0.6352 - acc: 0.6352 - val_loss: 0.5968 - val_f1_md: 0.6676 - val_acc: 0.6676\n",
      "\n",
      "Epoch 00001: val_f1_md improved from -inf to 0.66760, saving model to base_senti.h5\n",
      "Epoch 2/15\n",
      "5000/5000 [==============================] - 62s 12ms/step - loss: 0.5777 - f1_md: 0.6948 - acc: 0.6948 - val_loss: 0.5909 - val_f1_md: 0.6769 - val_acc: 0.6769\n",
      "\n",
      "Epoch 00002: val_f1_md improved from 0.66760 to 0.67692, saving model to base_senti.h5\n",
      "Epoch 3/15\n",
      "5000/5000 [==============================] - 61s 12ms/step - loss: 0.5560 - f1_md: 0.7130 - acc: 0.7130 - val_loss: 0.6013 - val_f1_md: 0.6708 - val_acc: 0.6708\n",
      "\n",
      "Epoch 00003: val_f1_md did not improve from 0.67692\n",
      "Epoch 4/15\n",
      "5000/5000 [==============================] - 62s 12ms/step - loss: 0.5410 - f1_md: 0.7242 - acc: 0.7242 - val_loss: 0.6046 - val_f1_md: 0.6718 - val_acc: 0.6718\n",
      "\n",
      "Epoch 00004: val_f1_md did not improve from 0.67692\n",
      "Epoch 5/15\n",
      "5000/5000 [==============================] - 62s 12ms/step - loss: 0.5243 - f1_md: 0.7366 - acc: 0.7366 - val_loss: 0.6083 - val_f1_md: 0.6729 - val_acc: 0.6729\n",
      "\n",
      "Epoch 00005: val_f1_md did not improve from 0.67692\n",
      "Epoch 6/15\n",
      "5000/5000 [==============================] - 62s 12ms/step - loss: 0.5118 - f1_md: 0.7456 - acc: 0.7456 - val_loss: 0.6257 - val_f1_md: 0.6712 - val_acc: 0.6712\n",
      "\n",
      "Epoch 00006: val_f1_md did not improve from 0.67692\n",
      "Restoring model weights from the end of the best epoch.\n",
      "Epoch 00006: early stopping\n"
     ]
    }
   ],
   "source": [
    "base_senti.compile(optimizer='Adam', loss='categorical_crossentropy', metrics=[f1_md,'acc'])\n",
    "\n",
    "h_base_senti = base_senti.fit(X_train_2, y_train, \n",
    "               batch_size=64, \n",
    "               epochs=15, \n",
    "               verbose=1, callbacks=[tensor_board, check_point, early_stop], \n",
    "               validation_data=(X_cv_2, y_cv))"
   ]
  },
  {
   "cell_type": "code",
   "execution_count": null,
   "metadata": {
    "colab": {
     "base_uri": "https://localhost:8080/"
    },
    "id": "YwWzMKAOZb-o",
    "outputId": "ae240c7a-d5db-41c0-eb14-c709afc10f08"
   },
   "outputs": [
    {
     "name": "stdout",
     "output_type": "stream",
     "text": [
      "1250/1250 [==============================] - 8s 7ms/step - loss: 0.6021 - f1_md: 0.6713 - acc: 0.6713\n",
      "['loss', 'f1_md', 'acc']\n",
      "[0.602084219455719, 0.671299934387207, 0.6712999939918518]\n"
     ]
    }
   ],
   "source": [
    "base_senti_score = base_senti.evaluate(X_test_2, y_test)\n",
    "print(base_senti.metrics_names)\n",
    "print(base_senti_score)"
   ]
  },
  {
   "cell_type": "code",
   "execution_count": null,
   "metadata": {
    "colab": {
     "base_uri": "https://localhost:8080/",
     "height": 316
    },
    "id": "FMxm0uxjZb-o",
    "outputId": "db79c458-743d-4edc-d7f2-0de3297460c4"
   },
   "outputs": [
    {
     "name": "stdout",
     "output_type": "stream",
     "text": [
      "[[15135  5665]\n",
      " [ 7483 11717]]\n"
     ]
    },
    {
     "data": {
      "text/plain": [
       "<matplotlib.axes._subplots.AxesSubplot at 0x7f8b93402310>"
      ]
     },
     "execution_count": 53,
     "metadata": {
      "tags": []
     },
     "output_type": "execute_result"
    },
    {
     "data": {
      "image/png": "[encoded data removed]",
      "text/plain": [
       "<Figure size 432x288 with 2 Axes>"
      ]
     },
     "metadata": {
      "needs_background": "light",
      "tags": []
     },
     "output_type": "display_data"
    }
   ],
   "source": [
    "con_mat = confusion_matrix(np.argmax(y_test, axis=1), np.argmax(base_senti.predict(X_test_2), axis=1))\n",
    "\n",
    "print(con_mat)\n",
    "sns.heatmap(con_mat, annot=True, fmt='g', linewidths=.5, xticklabels=['Predicted 0', 'Predicted 1'], \n",
    "            yticklabels=['Actual 0', 'Actual 1'])"
   ]
  },
  {
   "cell_type": "code",
   "execution_count": null,
   "metadata": {
    "colab": {
     "base_uri": "https://localhost:8080/",
     "height": 295
    },
    "id": "Pc0RnFr7Zb-o",
    "outputId": "5634d865-a6d0-4878-c0da-c70b0272e640"
   },
   "outputs": [
    {
     "data": {
      "image/png": "[encoded data removed]",
      "text/plain": [
       "<Figure size 432x288 with 1 Axes>"
      ]
     },
     "metadata": {
      "needs_background": "light",
      "tags": []
     },
     "output_type": "display_data"
    }
   ],
   "source": [
    "plt.plot(h_base_senti.history['f1_md'][1:])\n",
    "plt.plot(h_base_senti.history['val_f1_md'][1:])\n",
    "plt.title('Model Metric')\n",
    "plt.ylabel('f1 score')\n",
    "plt.xlabel('epoch')\n",
    "plt.legend(['train','validation'], loc='upper left')\n",
    "plt.show()"
   ]
  },
  {
   "cell_type": "code",
   "execution_count": null,
   "metadata": {
    "colab": {
     "base_uri": "https://localhost:8080/",
     "height": 295
    },
    "id": "_n5f8ac1Zb-p",
    "outputId": "87319aa6-c3e3-455c-b35d-adc6fd72a500"
   },
   "outputs": [
    {
     "data": {
      "image/png": "[encoded data removed]",
      "text/plain": [
       "<Figure size 432x288 with 1 Axes>"
      ]
     },
     "metadata": {
      "needs_background": "light",
      "tags": []
     },
     "output_type": "display_data"
    }
   ],
   "source": [
    "plt.plot(h_base_senti.history['loss'][1:])\n",
    "plt.plot(h_base_senti.history['val_loss'][1:])\n",
    "plt.title('Model Loss')\n",
    "plt.ylabel('loss')\n",
    "plt.xlabel('epoch')\n",
    "plt.legend(['train','Validation'], loc='upper left')\n",
    "plt.show()"
   ]
  },
  {
   "cell_type": "code",
   "execution_count": null,
   "metadata": {
    "colab": {
     "base_uri": "https://localhost:8080/"
    },
    "id": "6_Bc_nQWCjl3",
    "outputId": "d2fca406-ca29-4a9c-a7cc-770cb884307d"
   },
   "outputs": [
    {
     "name": "stdout",
     "output_type": "stream",
     "text": [
      "saved model to disk\n"
     ]
    }
   ],
   "source": [
    "#Storing the model\n",
    "base_senti_json = base_senti.to_json()\n",
    "with open(\"/models/base_senti.json\",\"w\") as json_file:\n",
    "  json_file.write(base_senti_json)\n",
    "\n",
    "base_senti.save_weights(\"/models/base_senti.h5\")\n",
    "print(\"saved model to disk\")"
   ]
  },
  {
   "cell_type": "markdown",
   "metadata": {
    "id": "UgXLuqgBZb-q"
   },
   "source": [
    "## Model 3: Baseline + Emotion"
   ]
  },
  {
   "cell_type": "code",
   "execution_count": null,
   "metadata": {
    "id": "YDQ_QbHTZb-r"
   },
   "outputs": [],
   "source": [
    "#Loading the pretrained emotion model and emotion tokenizer\n",
    "\n",
    "with open(\"json_emo.json\",\"r\") as json_file:\n",
    "  loaded_model_json = json_file.read()\n",
    "emotion_model = model_from_json(loaded_model_json)\n",
    "emotion_model.load_weights(\"model_emo.h5\")\n",
    "\n",
    "with open(\"emotion_tokenizer.p\",\"rb\") as pickle_file:\n",
    "  emotion_tokenizer = pickle.load(pickle_file)"
   ]
  },
  {
   "cell_type": "code",
   "execution_count": 15,
   "metadata": {
    "colab": {
     "base_uri": "https://localhost:8080/"
    },
    "id": "mVqDHujEZb-s",
    "outputId": "cd0a1da3-106d-4876-d72e-09b5aa852d31"
   },
   "outputs": [
    {
     "name": "stdout",
     "output_type": "stream",
     "text": [
      "(320000, 150)\n"
     ]
    }
   ],
   "source": [
    "#Calculate feature representations from emotion model\n",
    "\n",
    "X_train_encoded = emotion_tokenizer.texts_to_sequences(X_train[\"text\"])\n",
    "X_test_encoded = emotion_tokenizer.texts_to_sequences(X_test[\"text\"])\n",
    "X_cv_encoded = emotion_tokenizer.texts_to_sequences(X_cv[\"text\"])\n",
    "\n",
    "X_train_padded = pad_sequences(X_train_encoded, maxlen=300, padding='post')\n",
    "X_test_padded = pad_sequences(X_test_encoded, maxlen=300, padding='post')\n",
    "X_cv_padded = pad_sequences(X_cv_encoded, maxlen=300, padding='post')\n",
    "\n",
    "output_layer_emotion = 'fully_connected'\n",
    "intermediate_layer_model = Model(inputs=emotion_model.input, outputs=emotion_model.get_layer(output_layer_emotion).output)\n",
    "intermediate_output_train = intermediate_layer_model.predict(X_train_padded)\n",
    "intermediate_output_test = intermediate_layer_model.predict(X_test_padded)\n",
    "intermediate_output_cv = intermediate_layer_model.predict(X_cv_padded)\n",
    "\n",
    "print(intermediate_output_train.shape)"
   ]
  },
  {
   "cell_type": "code",
   "execution_count": 16,
   "metadata": {
    "id": "kQ98DkeYBJ7E"
   },
   "outputs": [],
   "source": [
    "#Final Input\n",
    "X_train_3 = [X_train_padded, np.array(intermediate_output_train)]\n",
    "X_test_3 = [X_test_padded, np.array(intermediate_output_test)]\n",
    "X_cv_3 = [X_cv_padded, np.array(intermediate_output_cv)]"
   ]
  },
  {
   "cell_type": "code",
   "execution_count": 17,
   "metadata": {
    "id": "5DdnWvAFZb-v"
   },
   "outputs": [],
   "source": [
    "#Creating callbacks\n",
    "\n",
    "tensor_board = TensorBoard(log_dir=\"base_emo\")\n",
    "\n",
    "check_point = ModelCheckpoint(\"base_emo.h5\", \n",
    "                               monitor=\"val_f1_md\", \n",
    "                               mode=\"max\", \n",
    "                               save_best_only = True, \n",
    "                               verbose=1)\n",
    "\n",
    "early_stop = EarlyStopping(monitor = 'val_f1_md', \n",
    "                            min_delta = 0, \n",
    "                            patience = 5,\n",
    "                            verbose=1,\n",
    "                            restore_best_weights=True)\n",
    "\n"
   ]
  },
  {
   "cell_type": "code",
   "execution_count": 18,
   "metadata": {
    "colab": {
     "base_uri": "https://localhost:8080/"
    },
    "id": "faD7p_eRZb-t",
    "outputId": "c68dcb9e-f3bb-4c8e-aa00-b68984492751"
   },
   "outputs": [
    {
     "name": "stdout",
     "output_type": "stream",
     "text": [
      "Model: \"model_1\"\n",
      "__________________________________________________________________________________________________\n",
      "Layer (type)                    Output Shape         Param #     Connected to                     \n",
      "==================================================================================================\n",
      "main_input (InputLayer)         [(None, 300)]        0                                            \n",
      "__________________________________________________________________________________________________\n",
      "embedding (Embedding)           (None, 300, 300)     29043900    main_input[0][0]                 \n",
      "__________________________________________________________________________________________________\n",
      "conv1d (Conv1D)                 (None, 297, 50)      60050       embedding[0][0]                  \n",
      "__________________________________________________________________________________________________\n",
      "max_pooling1d (MaxPooling1D)    (None, 148, 50)      0           conv1d[0][0]                     \n",
      "__________________________________________________________________________________________________\n",
      "conv1d_1 (Conv1D)               (None, 146, 100)     15100       max_pooling1d[0][0]              \n",
      "__________________________________________________________________________________________________\n",
      "max_pooling1d_1 (MaxPooling1D)  (None, 73, 100)      0           conv1d_1[0][0]                   \n",
      "__________________________________________________________________________________________________\n",
      "flatten (Flatten)               (None, 7300)         0           max_pooling1d_1[0][0]            \n",
      "__________________________________________________________________________________________________\n",
      "fully_connected (Dense)         (None, 100)          730100      flatten[0][0]                    \n",
      "__________________________________________________________________________________________________\n",
      "emotion_input (InputLayer)      [(None, 150)]        0                                            \n",
      "__________________________________________________________________________________________________\n",
      "concatenate (Concatenate)       (None, 250)          0           fully_connected[0][0]            \n",
      "                                                                 emotion_input[0][0]              \n",
      "__________________________________________________________________________________________________\n",
      "dense (Dense)                   (None, 2)            502         concatenate[0][0]                \n",
      "==================================================================================================\n",
      "Total params: 29,849,652\n",
      "Trainable params: 805,752\n",
      "Non-trainable params: 29,043,900\n",
      "__________________________________________________________________________________________________\n",
      "None\n"
     ]
    }
   ],
   "source": [
    "#Baseline + Emotion Model Architecture\n",
    "\n",
    "input_data = Input(shape=(300,), name='main_input')\n",
    "embedding_layer = Embedding(vocab_size, 300, weights=[embedding_matrix_w2v], trainable=False)(input_data)\n",
    "conv1_1 = Conv1D(filters=50, kernel_size=4, activation='relu')(embedding_layer)\n",
    "maxp_1 = MaxPooling1D(pool_size=2)(conv1_1)\n",
    "conv1_2 = Conv1D(filters=100, kernel_size=3, activation='relu')(maxp_1)\n",
    "maxp_2 = MaxPooling1D(pool_size=2)(conv1_2)\n",
    "flatt_ = Flatten()(maxp_2)\n",
    "dense = Dense(100, activation='relu', name='fully_connected')(flatt_)\n",
    "\n",
    "input_emo = Input(shape=(150,), name='emotion_input')\n",
    "concat = concatenate([dense, input_emo])\n",
    "output = Dense(2, activation='softmax')(concat)\n",
    "\n",
    "base_emo = Model(inputs=[input_data, input_emo], outputs=[output])\n",
    "\n",
    "print(base_emo.summary())"
   ]
  },
  {
   "cell_type": "code",
   "execution_count": 19,
   "metadata": {
    "colab": {
     "base_uri": "https://localhost:8080/"
    },
    "id": "3yZskd0wZb-v",
    "outputId": "7f4221d5-d86b-4d0c-bb97-fb683412f5d2"
   },
   "outputs": [
    {
     "name": "stdout",
     "output_type": "stream",
     "text": [
      "Epoch 1/15\n",
      "5000/5000 [==============================] - 61s 12ms/step - loss: 0.6337 - f1_md: 0.6342 - acc: 0.6342 - val_loss: 0.6007 - val_f1_md: 0.6685 - val_acc: 0.6685\n",
      "\n",
      "Epoch 00001: val_f1_md improved from -inf to 0.66850, saving model to base_emo.h5\n",
      "Epoch 2/15\n",
      "5000/5000 [==============================] - 58s 12ms/step - loss: 0.5773 - f1_md: 0.6975 - acc: 0.6975 - val_loss: 0.6181 - val_f1_md: 0.6570 - val_acc: 0.6571\n",
      "\n",
      "Epoch 00002: val_f1_md did not improve from 0.66850\n",
      "Epoch 3/15\n",
      "5000/5000 [==============================] - 58s 12ms/step - loss: 0.5526 - f1_md: 0.7165 - acc: 0.7165 - val_loss: 0.5989 - val_f1_md: 0.6736 - val_acc: 0.6736\n",
      "\n",
      "Epoch 00003: val_f1_md improved from 0.66850 to 0.67360, saving model to base_emo.h5\n",
      "Epoch 4/15\n",
      "5000/5000 [==============================] - 58s 12ms/step - loss: 0.5326 - f1_md: 0.7325 - acc: 0.7325 - val_loss: 0.5962 - val_f1_md: 0.6791 - val_acc: 0.6791\n",
      "\n",
      "Epoch 00004: val_f1_md improved from 0.67360 to 0.67910, saving model to base_emo.h5\n",
      "Epoch 5/15\n",
      "5000/5000 [==============================] - 57s 11ms/step - loss: 0.5197 - f1_md: 0.7421 - acc: 0.7421 - val_loss: 0.6007 - val_f1_md: 0.6750 - val_acc: 0.6750\n",
      "\n",
      "Epoch 00005: val_f1_md did not improve from 0.67910\n",
      "Epoch 6/15\n",
      "5000/5000 [==============================] - 57s 11ms/step - loss: 0.5042 - f1_md: 0.7529 - acc: 0.7529 - val_loss: 0.6100 - val_f1_md: 0.6750 - val_acc: 0.6750\n",
      "\n",
      "Epoch 00006: val_f1_md did not improve from 0.67910\n",
      "Epoch 7/15\n",
      "5000/5000 [==============================] - 56s 11ms/step - loss: 0.4880 - f1_md: 0.7621 - acc: 0.7621 - val_loss: 0.6325 - val_f1_md: 0.6662 - val_acc: 0.6662\n",
      "\n",
      "Epoch 00007: val_f1_md did not improve from 0.67910\n",
      "Restoring model weights from the end of the best epoch.\n",
      "Epoch 00007: early stopping\n"
     ]
    }
   ],
   "source": [
    "base_emo.compile(optimizer='Adam', loss='categorical_crossentropy', metrics=[f1_md,'acc'])\n",
    "\n",
    "h_base_emo = base_emo.fit(X_train_3, y_train, \n",
    "               batch_size=64, \n",
    "               epochs=15, \n",
    "               verbose=1, callbacks=[tensor_board, check_point, early_stop], \n",
    "               validation_data=(X_cv_3, y_cv))"
   ]
  },
  {
   "cell_type": "code",
   "execution_count": 22,
   "metadata": {
    "colab": {
     "base_uri": "https://localhost:8080/"
    },
    "id": "4tEsIxsyZb-v",
    "outputId": "a0e65ce9-e725-406e-82c1-d29bd1035e81"
   },
   "outputs": [
    {
     "name": "stdout",
     "output_type": "stream",
     "text": [
      "1250/1250 [==============================] - 7s 5ms/step - loss: 0.6142 - f1_md: 0.6661 - acc: 0.6661\n",
      "['loss', 'f1_md', 'acc']\n",
      "[0.6142296195030212, 0.6660999655723572, 0.666100025177002]\n"
     ]
    }
   ],
   "source": [
    "base_emo_score = base_emo.evaluate(X_test_3, y_test)\n",
    "print(base_emo.metrics_names)\n",
    "print(base_emo_score)"
   ]
  },
  {
   "cell_type": "code",
   "execution_count": null,
   "metadata": {
    "colab": {
     "base_uri": "https://localhost:8080/",
     "height": 316
    },
    "id": "5BPorw7SZb-v",
    "outputId": "5953e0dc-8ccd-4e58-8f1d-20f784dda8d4"
   },
   "outputs": [
    {
     "name": "stdout",
     "output_type": "stream",
     "text": [
      "[[17754  3046]\n",
      " [10268  8932]]\n"
     ]
    },
    {
     "data": {
      "text/plain": [
       "<matplotlib.axes._subplots.AxesSubplot at 0x7f8b92503c10>"
      ]
     },
     "execution_count": 69,
     "metadata": {
      "tags": []
     },
     "output_type": "execute_result"
    },
    {
     "data": {
      "image/png": "[encoded data removed]",
      "text/plain": [
       "<Figure size 432x288 with 2 Axes>"
      ]
     },
     "metadata": {
      "needs_background": "light",
      "tags": []
     },
     "output_type": "display_data"
    }
   ],
   "source": [
    "con_mat = confusion_matrix(np.argmax(y_test, axis=1), np.argmax(base_emo.predict(X_test_3), axis=1))\n",
    "\n",
    "print(con_mat)\n",
    "sns.heatmap(con_mat, annot=True, fmt='g', linewidths=.5, xticklabels=['Predicted 0', 'Predicted 1'], \n",
    "            yticklabels=['Actual 0', 'Actual 1'])"
   ]
  },
  {
   "cell_type": "code",
   "execution_count": null,
   "metadata": {
    "colab": {
     "base_uri": "https://localhost:8080/",
     "height": 295
    },
    "id": "lbx00XtCZb-w",
    "outputId": "f3d9715b-c2ee-42fd-9f9e-a2ba6c87c706"
   },
   "outputs": [
    {
     "data": {
      "image/png": "[encoded data removed]",
      "text/plain": [
       "<Figure size 432x288 with 1 Axes>"
      ]
     },
     "metadata": {
      "needs_background": "light",
      "tags": []
     },
     "output_type": "display_data"
    }
   ],
   "source": [
    "plt.plot(h_base_emo.history['f1_md'][1:])\n",
    "plt.plot(h_base_emo.history['val_f1_md'][1:])\n",
    "plt.title('Model Metric')\n",
    "plt.ylabel('f1 score')\n",
    "plt.xlabel('epoch')\n",
    "plt.legend(['train','validation'], loc='upper left')\n",
    "plt.show()"
   ]
  },
  {
   "cell_type": "code",
   "execution_count": null,
   "metadata": {
    "colab": {
     "base_uri": "https://localhost:8080/",
     "height": 295
    },
    "id": "AN70kbZ7Zb-w",
    "outputId": "f7705c36-d239-4810-ad25-bf7c07014640"
   },
   "outputs": [
    {
     "data": {
      "image/png": "[encoded data removed]",
      "text/plain": [
       "<Figure size 432x288 with 1 Axes>"
      ]
     },
     "metadata": {
      "needs_background": "light",
      "tags": []
     },
     "output_type": "display_data"
    }
   ],
   "source": [
    "plt.plot(h_base_emo.history['loss'][1:])\n",
    "plt.plot(h_base_emo.history['val_loss'][1:])\n",
    "plt.title('Model Loss')\n",
    "plt.ylabel('loss')\n",
    "plt.xlabel('epoch')\n",
    "plt.legend(['train','validation'], loc='upper left')\n",
    "plt.show()"
   ]
  },
  {
   "cell_type": "code",
   "execution_count": 23,
   "metadata": {
    "colab": {
     "base_uri": "https://localhost:8080/"
    },
    "id": "m2VXzShVH7Nh",
    "outputId": "691c49a5-a2a4-4c0b-ab31-75b265a295f6"
   },
   "outputs": [
    {
     "name": "stdout",
     "output_type": "stream",
     "text": [
      "saved model to disk\n"
     ]
    }
   ],
   "source": [
    "base_emo_json = base_emo.to_json()\n",
    "with open(\"/models/base_emo.json\",\"w\") as json_file:\n",
    "  json_file.write(base_emo_json)\n",
    "\n",
    "base_emo.save_weights(\"/models/base_emo.h5\")\n",
    "print(\"saved model to disk\")"
   ]
  },
  {
   "cell_type": "markdown",
   "metadata": {
    "id": "vAS34c3vZb-z"
   },
   "source": [
    "## Model 4: Baseline + Sentiment + Emotion"
   ]
  },
  {
   "cell_type": "code",
   "execution_count": null,
   "metadata": {
    "id": "UjOKuxCDHxpO"
   },
   "outputs": [],
   "source": [
    "#Loading the pretrained sentiment model and sentiment tokenizer\n",
    "\n",
    "with open(\"json_senti.json\",\"r\") as json_file:\n",
    "  loaded_model_json = json_file.read()\n",
    "sentiment_model = model_from_json(loaded_model_json)\n",
    "sentiment_model.load_weights(\"model_senti.h5\")\n",
    "\n",
    "with open(\"sentiment_tokenizer.p\",\"rb\") as pickle_file:\n",
    "  sentiment_tokenizer = pickle.load(pickle_file)"
   ]
  },
  {
   "cell_type": "code",
   "execution_count": 32,
   "metadata": {
    "id": "GDT0FQi8Zb-z"
   },
   "outputs": [],
   "source": [
    "#Calculating the feature representations from sentiment model\n",
    "\n",
    "X_train_encoded = sentiment_tokenizer.texts_to_sequences(X_train[\"text\"])\n",
    "X_test_encoded = sentiment_tokenizer.texts_to_sequences(X_test[\"text\"])\n",
    "X_cv_encoded = sentiment_tokenizer.texts_to_sequences(X_cv[\"text\"])\n",
    "\n",
    "X_train_padded = pad_sequences(X_train_encoded, maxlen=encoding_length, padding='post')\n",
    "X_test_padded = pad_sequences(X_test_encoded, maxlen=encoding_length, padding='post')\n",
    "X_cv_padded = pad_sequences(X_cv_encoded, maxlen=encoding_length, padding='post')\n",
    "\n",
    "output_layer_sentiment = 'fully_connected'\n",
    "intermediate_layer_sentiment = Model(inputs=sentiment_model.input, outputs=sentiment_model.get_layer(output_layer_sentiment).output)\n",
    "intermediate_output_train_1 = intermediate_layer_sentiment.predict(X_train_padded)\n",
    "intermediate_output_test_1 = intermediate_layer_sentiment.predict(X_test_padded)\n",
    "intermediate_output_cv_1 = intermediate_layer_sentiment.predict(X_cv_padded)"
   ]
  },
  {
   "cell_type": "code",
   "execution_count": null,
   "metadata": {
    "id": "474-9nd2tXiV"
   },
   "outputs": [],
   "source": [
    "#Loading the pretrained emotion model and emotion tokenizer\n",
    "\n",
    "with open(\"json_emo.json\",\"r\") as json_file:\n",
    "  loaded_model_json = json_file.read()\n",
    "emotion_model = model_from_json(loaded_model_json)\n",
    "emotion_model.load_weights(\"model_emo.h5\")\n",
    "\n",
    "with open(\"emotion_tokenizer.p\",\"rb\") as pickle_file:\n",
    "  emotion_tokenizer = pickle.load(pickle_file)"
   ]
  },
  {
   "cell_type": "code",
   "execution_count": 33,
   "metadata": {
    "id": "5aV0t895Zb-0"
   },
   "outputs": [],
   "source": [
    "#Calculating the intermediate outputs from emotion model\n",
    "\n",
    "X_train_encoded = emotion_tokenizer.texts_to_sequences(X_train[\"text\"])\n",
    "X_test_encoded = emotion_tokenizer.texts_to_sequences(X_test[\"text\"])\n",
    "X_cv_encoded = emotion_tokenizer.texts_to_sequences(X_cv[\"text\"])\n",
    "\n",
    "X_train_padded = pad_sequences(X_train_encoded, maxlen=300, padding='post')\n",
    "X_test_padded = pad_sequences(X_test_encoded, maxlen=300, padding='post')\n",
    "X_cv_padded = pad_sequences(X_cv_encoded, maxlen=300, padding='post')\n",
    "\n",
    "output_layer_emotion = 'fully_connected'\n",
    "intermediate_layer_model = Model(inputs=emotion_model.input, outputs=emotion_model.get_layer(output_layer_emotion).output)\n",
    "intermediate_output_train_2 = intermediate_layer_model.predict(X_train_padded)\n",
    "intermediate_output_test_2 = intermediate_layer_model.predict(X_test_padded)\n",
    "intermediate_output_cv_2 = intermediate_layer_model.predict(X_cv_padded)"
   ]
  },
  {
   "cell_type": "code",
   "execution_count": 34,
   "metadata": {
    "id": "VCCXKHUyBcmG"
   },
   "outputs": [],
   "source": [
    "#Final input to model\n",
    "X_train_4 = [X_train_padded, np.array(intermediate_output_train_1), np.array(intermediate_output_train_2)]\n",
    "X_test_4 = [X_test_padded, np.array(intermediate_output_test_1),np.array(intermediate_output_test_2)]\n",
    "X_cv_4 = [X_cv_padded, np.array(intermediate_output_cv_1),np.array(intermediate_output_cv_2)]"
   ]
  },
  {
   "cell_type": "code",
   "execution_count": 35,
   "metadata": {
    "id": "YLAJFBXFZb-1"
   },
   "outputs": [],
   "source": [
    "#Creating callbacks\n",
    "\n",
    "tensor_board = TensorBoard(log_dir=\"base_senti_emo\")\n",
    "\n",
    "check_point = ModelCheckpoint(\"base_senti_emo.h5\", \n",
    "                               monitor=\"val_f1_md\", \n",
    "                               mode=\"max\", \n",
    "                               save_best_only = True, \n",
    "                               verbose=1)\n",
    "\n",
    "early_stop = EarlyStopping(monitor = 'val_f1_md', \n",
    "                            min_delta = 0, \n",
    "                            patience = 3,\n",
    "                            verbose=1,\n",
    "                            restore_best_weights=True)"
   ]
  },
  {
   "cell_type": "code",
   "execution_count": 36,
   "metadata": {
    "colab": {
     "base_uri": "https://localhost:8080/"
    },
    "id": "5quOg-gzZb-1",
    "outputId": "0cfba55f-ce12-414c-aff2-553b90221e33"
   },
   "outputs": [
    {
     "name": "stdout",
     "output_type": "stream",
     "text": [
      "Model: \"model_4\"\n",
      "__________________________________________________________________________________________________\n",
      "Layer (type)                    Output Shape         Param #     Connected to                     \n",
      "==================================================================================================\n",
      "main_input (InputLayer)         [(None, 300)]        0                                            \n",
      "__________________________________________________________________________________________________\n",
      "embedding_1 (Embedding)         (None, 300, 300)     29043900    main_input[0][0]                 \n",
      "__________________________________________________________________________________________________\n",
      "conv1d_2 (Conv1D)               (None, 297, 50)      60050       embedding_1[0][0]                \n",
      "__________________________________________________________________________________________________\n",
      "max_pooling1d_2 (MaxPooling1D)  (None, 148, 50)      0           conv1d_2[0][0]                   \n",
      "__________________________________________________________________________________________________\n",
      "conv1d_3 (Conv1D)               (None, 146, 100)     15100       max_pooling1d_2[0][0]            \n",
      "__________________________________________________________________________________________________\n",
      "max_pooling1d_3 (MaxPooling1D)  (None, 73, 100)      0           conv1d_3[0][0]                   \n",
      "__________________________________________________________________________________________________\n",
      "flatten_1 (Flatten)             (None, 7300)         0           max_pooling1d_3[0][0]            \n",
      "__________________________________________________________________________________________________\n",
      "fully_connected (Dense)         (None, 100)          730100      flatten_1[0][0]                  \n",
      "__________________________________________________________________________________________________\n",
      "sentiment_input (InputLayer)    [(None, 100)]        0                                            \n",
      "__________________________________________________________________________________________________\n",
      "emotion_input (InputLayer)      [(None, 150)]        0                                            \n",
      "__________________________________________________________________________________________________\n",
      "concatenate_1 (Concatenate)     (None, 350)          0           fully_connected[0][0]            \n",
      "                                                                 sentiment_input[0][0]            \n",
      "                                                                 emotion_input[0][0]              \n",
      "__________________________________________________________________________________________________\n",
      "dense_1 (Dense)                 (None, 2)            702         concatenate_1[0][0]              \n",
      "==================================================================================================\n",
      "Total params: 29,849,852\n",
      "Trainable params: 805,952\n",
      "Non-trainable params: 29,043,900\n",
      "__________________________________________________________________________________________________\n",
      "None\n"
     ]
    }
   ],
   "source": [
    "#Baseline + Sentiment + Emotion Model Architecture\n",
    "\n",
    "input_data = Input(shape=(300,), name='main_input')\n",
    "embedding_layer = Embedding(vocab_size, 300, weights=[embedding_matrix_w2v], trainable=False)(input_data)\n",
    "conv1_1 = Conv1D(filters=50, kernel_size=4, activation='relu')(embedding_layer)\n",
    "maxP_1 = MaxPooling1D(pool_size=2)(conv1_1)\n",
    "conv1_2 = Conv1D(filters=100, kernel_size=3, activation='relu')(maxP_1)\n",
    "maxP_2 = MaxPooling1D(pool_size=2)(conv1_2)\n",
    "flatt_ = Flatten()(maxP_2)\n",
    "dense = Dense(100, activation='relu', name='fully_connected')(flatt_)\n",
    "\n",
    "input_senti = Input(shape=(100,), name='sentiment_input')\n",
    "input_emo = Input(shape=(150,), name='emotion_input')\n",
    "concat = concatenate([dense, input_senti, input_emo])\n",
    "\n",
    "output = Dense(2, activation='softmax')(concat)\n",
    "\n",
    "base_senti_emo = Model(inputs=[input_data, input_senti, input_emo], outputs=[output])\n",
    "\n",
    "print(base_senti_emo.summary())"
   ]
  },
  {
   "cell_type": "code",
   "execution_count": 37,
   "metadata": {
    "colab": {
     "base_uri": "https://localhost:8080/"
    },
    "id": "9OwqwxjjZb-1",
    "outputId": "4bdf75be-1ab0-437f-9cec-29dbb651a2c6"
   },
   "outputs": [
    {
     "name": "stdout",
     "output_type": "stream",
     "text": [
      "Epoch 1/10\n",
      "5000/5000 [==============================] - 57s 11ms/step - loss: 0.6452 - f1_md: 0.6212 - acc: 0.6212 - val_loss: 0.6042 - val_f1_md: 0.6620 - val_acc: 0.6620\n",
      "\n",
      "Epoch 00001: val_f1_md improved from -inf to 0.66200, saving model to base_senti_emo.h5\n",
      "Epoch 2/10\n",
      "5000/5000 [==============================] - 57s 11ms/step - loss: 0.5829 - f1_md: 0.6903 - acc: 0.6903 - val_loss: 0.6033 - val_f1_md: 0.6664 - val_acc: 0.6665\n",
      "\n",
      "Epoch 00002: val_f1_md improved from 0.66200 to 0.66645, saving model to base_senti_emo.h5\n",
      "Epoch 3/10\n",
      "5000/5000 [==============================] - 58s 12ms/step - loss: 0.5574 - f1_md: 0.7124 - acc: 0.7124 - val_loss: 0.5922 - val_f1_md: 0.6750 - val_acc: 0.6750\n",
      "\n",
      "Epoch 00003: val_f1_md improved from 0.66645 to 0.67500, saving model to base_senti_emo.h5\n",
      "Epoch 4/10\n",
      "5000/5000 [==============================] - 57s 11ms/step - loss: 0.5377 - f1_md: 0.7270 - acc: 0.7270 - val_loss: 0.6105 - val_f1_md: 0.6707 - val_acc: 0.6708\n",
      "\n",
      "Epoch 00004: val_f1_md did not improve from 0.67500\n",
      "Restoring model weights from the end of the best epoch.\n",
      "Epoch 00004: early stopping\n"
     ]
    }
   ],
   "source": [
    "base_senti_emo.compile(optimizer='Adam', loss='categorical_crossentropy', metrics=[f1_md,'acc'])\n",
    "\n",
    "h_base_senti_emo = base_senti_emo.fit(X_train_4, y_train, \n",
    "               batch_size=64, \n",
    "               epochs=10, \n",
    "               verbose=1, callbacks=[tensor_board, check_point, early_stop], \n",
    "               validation_data=(X_cv_4, y_cv))"
   ]
  },
  {
   "cell_type": "code",
   "execution_count": 38,
   "metadata": {
    "colab": {
     "base_uri": "https://localhost:8080/"
    },
    "id": "lGFxFZ63Zb-2",
    "outputId": "5280c9e7-96b5-47aa-a8e1-dddc75cc843b"
   },
   "outputs": [
    {
     "name": "stdout",
     "output_type": "stream",
     "text": [
      "1250/1250 [==============================] - 8s 6ms/step - loss: 0.6016 - f1_md: 0.6700 - acc: 0.6700\n",
      "['loss', 'f1_md', 'acc']\n",
      "[0.6015772819519043, 0.6699999570846558, 0.6700000166893005]\n"
     ]
    }
   ],
   "source": [
    "base_senti_emo_score = base_senti_emo.evaluate(X_test_4, y_test)\n",
    "print(base_senti_emo.metrics_names)\n",
    "print(base_senti_emo_score)"
   ]
  },
  {
   "cell_type": "code",
   "execution_count": null,
   "metadata": {
    "colab": {
     "base_uri": "https://localhost:8080/",
     "height": 316
    },
    "id": "vBeQXCxwZb-2",
    "outputId": "80b34460-c94e-49ee-acdb-a3c4d6179ca7"
   },
   "outputs": [
    {
     "name": "stdout",
     "output_type": "stream",
     "text": [
      "[[16319  4481]\n",
      " [ 8710 10490]]\n"
     ]
    },
    {
     "data": {
      "text/plain": [
       "<matplotlib.axes._subplots.AxesSubplot at 0x7f8b955e4f10>"
      ]
     },
     "execution_count": 83,
     "metadata": {
      "tags": []
     },
     "output_type": "execute_result"
    },
    {
     "data": {
      "image/png": "[encoded data removed]",
      "text/plain": [
       "<Figure size 432x288 with 2 Axes>"
      ]
     },
     "metadata": {
      "needs_background": "light",
      "tags": []
     },
     "output_type": "display_data"
    }
   ],
   "source": [
    "con_mat = confusion_matrix(np.argmax(y_test, axis=1), np.argmax(base_senti_emo.predict(X_test_4), axis=1))\n",
    "\n",
    "print(con_mat)\n",
    "sns.heatmap(con_mat, annot=True, fmt='g', linewidths=.5, xticklabels=['Predicted 0', 'Predicted 1'], \n",
    "            yticklabels=['Actual 0', 'Actual 1'])"
   ]
  },
  {
   "cell_type": "code",
   "execution_count": null,
   "metadata": {
    "colab": {
     "base_uri": "https://localhost:8080/",
     "height": 295
    },
    "id": "HRqkhhhj1DQJ",
    "outputId": "bb005e1b-aa2b-4dd0-9c31-c1c8cc872a84"
   },
   "outputs": [
    {
     "data": {
      "image/png": "[encoded data removed]",
      "text/plain": [
       "<Figure size 432x288 with 1 Axes>"
      ]
     },
     "metadata": {
      "needs_background": "light",
      "tags": []
     },
     "output_type": "display_data"
    }
   ],
   "source": [
    "plt.plot(h_base_senti_emo.history['f1_md'][1:])\n",
    "plt.plot(h_base_senti_emo.history['val_f1_md'][1:])\n",
    "plt.title('Model Metric')\n",
    "plt.ylabel('f1 score')\n",
    "plt.xlabel('epoch')\n",
    "plt.legend(['train','validation'], loc='upper left')\n",
    "plt.show()"
   ]
  },
  {
   "cell_type": "code",
   "execution_count": null,
   "metadata": {
    "colab": {
     "base_uri": "https://localhost:8080/",
     "height": 295
    },
    "id": "SaJ0tVP31DQQ",
    "outputId": "7275742a-52d9-48e4-cb20-18867bc220c4"
   },
   "outputs": [
    {
     "data": {
      "image/png": "[encoded data removed]",
      "text/plain": [
       "<Figure size 432x288 with 1 Axes>"
      ]
     },
     "metadata": {
      "needs_background": "light",
      "tags": []
     },
     "output_type": "display_data"
    }
   ],
   "source": [
    "plt.plot(h_base_senti_emo.history['loss'][1:])\n",
    "plt.plot(h_base_senti_emo.history['val_loss'][1:])\n",
    "plt.title('Model Loss')\n",
    "plt.ylabel('loss')\n",
    "plt.xlabel('epoch')\n",
    "plt.legend(['train','validation'], loc='upper left')\n",
    "plt.show()"
   ]
  },
  {
   "cell_type": "code",
   "execution_count": 39,
   "metadata": {
    "colab": {
     "base_uri": "https://localhost:8080/"
    },
    "id": "VG3z4ZrFQZ8Y",
    "outputId": "95228763-9ed8-4483-f103-6f827d1227fc"
   },
   "outputs": [
    {
     "name": "stdout",
     "output_type": "stream",
     "text": [
      "saved model to disk\n"
     ]
    }
   ],
   "source": [
    "#Storing the model\n",
    "\n",
    "base_senti_emo_json = base_senti_emo.to_json()\n",
    "with open(\"/models/base_senti_emo.json\",\"w\") as json_file:\n",
    "  json_file.write(base_senti_emo_json)\n",
    "\n",
    "base_emo.save_weights(\"/models/base_senti_emo.h5\")\n",
    "print(\"saved model to disk\")"
   ]
  }
 ],
 "metadata": {
  "accelerator": "GPU",
  "colab": {
   "collapsed_sections": [],
   "name": "Modelling_Final.ipynb",
   "provenance": []
  },
  "hide_input": false,
  "kernelspec": {
   "display_name": "Python 3",
   "language": "python",
   "name": "python3"
  },
  "language_info": {
   "codemirror_mode": {
    "name": "ipython",
    "version": 3
   },
   "file_extension": ".py",
   "mimetype": "text/x-python",
   "name": "python",
   "nbconvert_exporter": "python",
   "pygments_lexer": "ipython3",
   "version": "3.8.5"
  },
  "toc": {
   "base_numbering": 1,
   "nav_menu": {},
   "number_sections": true,
   "sideBar": true,
   "skip_h1_title": false,
   "title_cell": "Table of Contents",
   "title_sidebar": "Contents",
   "toc_cell": false,
   "toc_position": {
    "height": "calc(100% - 180px)",
    "left": "10px",
    "top": "150px",
    "width": "357px"
   },
   "toc_section_display": true,
   "toc_window_display": true
  }
 },
 "nbformat": 4,
 "nbformat_minor": 1
}
