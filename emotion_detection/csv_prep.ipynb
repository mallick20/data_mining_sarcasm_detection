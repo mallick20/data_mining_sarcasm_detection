{
 "cells": [
  {
   "cell_type": "markdown",
   "metadata": {},
   "source": [
    "# Target\n",
    "\n",
    "We've downloaded two different datasets from two sources.<br>\n",
    "And, further prepared csv out of it, in a format suitable for our consumption later on. <br>\n",
    "\n",
    "Sources:\n",
    "1. Tweets dataset containing emotions downloaded from: http://saifmohammad.com/WebPages/EmotionIntensity-SharedTask.html\n",
    "2. Emotion classification data downloaded from: https://www.kaggle.com/eray1yildiz/emotion-classification"
   ]
  },
  {
   "cell_type": "code",
   "execution_count": 1,
   "metadata": {
    "ExecuteTime": {
     "end_time": "2020-03-31T19:55:53.517643Z",
     "start_time": "2020-03-31T19:55:53.514671Z"
    }
   },
   "outputs": [],
   "source": [
    "import pandas as pd\n",
    "import os"
   ]
  },
  {
   "cell_type": "markdown",
   "metadata": {},
   "source": [
    "# Preparing dataset 1\n",
    "\n",
    "For each text, we have a label in dataset with a confidence that represents its intensity. In such a case, tweets having confidence > 0.5 qualifies to be in our dataset. They have been accordingly picked. "
   ]
  },
  {
   "cell_type": "code",
   "execution_count": 2,
   "metadata": {
    "ExecuteTime": {
     "end_time": "2020-03-31T19:55:53.687128Z",
     "start_time": "2020-03-31T19:55:53.678072Z"
    }
   },
   "outputs": [
    {
     "name": "stdout",
     "output_type": "stream",
     "text": [
      "['anger-ratings-0to1.dev.gold.txt', 'anger-ratings-0to1.train.txt', 'fear-ratings-0to1.dev.gold.txt', 'fear-ratings-0to1.train.txt', 'joy-ratings-0to1.dev.gold.txt', 'joy-ratings-0to1.train.txt', 'sadness-ratings-0to1.dev.gold.txt', 'sadness-ratings-0to1.train.txt']\n",
      "['anger-ratings-0to1.test.gold.txt', 'fear-ratings-0to1.test.gold.txt', 'joy-ratings-0to1.test.gold.txt', 'sadness-ratings-0to1.test.gold.txt']\n"
     ]
    }
   ],
   "source": [
    "data_loc = 'data/base'\n",
    "\n",
    "files = os.listdir(data_loc)\n",
    "train_files = []\n",
    "test_files = []\n",
    "\n",
    "for file in files:\n",
    "    if 'test' in file:\n",
    "        test_files.append(file)\n",
    "    elif 'train' in file:\n",
    "        train_files.append(file)\n",
    "    elif 'dev' in file:\n",
    "        train_files.append(file)\n",
    "        \n",
    "print(train_files)\n",
    "print(test_files)"
   ]
  },
  {
   "cell_type": "code",
   "execution_count": 7,
   "metadata": {
    "ExecuteTime": {
     "end_time": "2020-03-31T19:55:54.022792Z",
     "start_time": "2020-03-31T19:55:54.014086Z"
    }
   },
   "outputs": [],
   "source": [
    "def get_dataframe(files):\n",
    "    \n",
    "    base_text = []\n",
    "    tags = []\n",
    "    for file in files:\n",
    "        file_name = f\"{data_loc}/{file}\"\n",
    "        f = open(file_name, errors=\"ignore\")\n",
    "        lines = f.readlines()\n",
    "        lines = [line.split() for line in lines]\n",
    "        lines = [line[2:] for line in lines]\n",
    "        for line in lines:\n",
    "            tag = line[-2]\n",
    "            confidence = line[-1]\n",
    "            if float(confidence) > 0.5:\n",
    "                line = line[:-2]\n",
    "                base = ' '.join(line)\n",
    "                base_text.append(base)\n",
    "                tags.append(tag)\n",
    "    \n",
    "    df = pd.DataFrame(list(zip(base_text, tags)), columns =['text', 'tag'])\n",
    "    return df"
   ]
  },
  {
   "cell_type": "code",
   "execution_count": 8,
   "metadata": {
    "ExecuteTime": {
     "end_time": "2020-03-31T19:55:54.837667Z",
     "start_time": "2020-03-31T19:55:54.549952Z"
    }
   },
   "outputs": [],
   "source": [
    "train_df = get_dataframe(train_files)\n",
    "test_df = get_dataframe(test_files)"
   ]
  },
  {
   "cell_type": "code",
   "execution_count": 9,
   "metadata": {
    "ExecuteTime": {
     "end_time": "2020-03-31T19:55:55.440293Z",
     "start_time": "2020-03-31T19:55:55.430223Z"
    }
   },
   "outputs": [
    {
     "data": {
      "text/html": [
       "<div>\n",
       "<style scoped>\n",
       "    .dataframe tbody tr th:only-of-type {\n",
       "        vertical-align: middle;\n",
       "    }\n",
       "\n",
       "    .dataframe tbody tr th {\n",
       "        vertical-align: top;\n",
       "    }\n",
       "\n",
       "    .dataframe thead th {\n",
       "        text-align: right;\n",
       "    }\n",
       "</style>\n",
       "<table border=\"1\" class=\"dataframe\">\n",
       "  <thead>\n",
       "    <tr style=\"text-align: right;\">\n",
       "      <th></th>\n",
       "      <th>text</th>\n",
       "      <th>tag</th>\n",
       "    </tr>\n",
       "  </thead>\n",
       "  <tbody>\n",
       "    <tr>\n",
       "      <th>0</th>\n",
       "      <td>that Rutgers game was an abomination. An affro...</td>\n",
       "      <td>anger</td>\n",
       "    </tr>\n",
       "    <tr>\n",
       "      <th>1</th>\n",
       "      <td>I get mad over something so minuscule I try to...</td>\n",
       "      <td>anger</td>\n",
       "    </tr>\n",
       "    <tr>\n",
       "      <th>2</th>\n",
       "      <td>I get mad over something so minuscule I try to...</td>\n",
       "      <td>anger</td>\n",
       "    </tr>\n",
       "    <tr>\n",
       "      <th>3</th>\n",
       "      <td>eyes have been dilated. I hate the world right...</td>\n",
       "      <td>anger</td>\n",
       "    </tr>\n",
       "    <tr>\n",
       "      <th>4</th>\n",
       "      <td>One chosen by the CLP members! MP seats are no...</td>\n",
       "      <td>anger</td>\n",
       "    </tr>\n",
       "  </tbody>\n",
       "</table>\n",
       "</div>"
      ],
      "text/plain": [
       "                                                text    tag\n",
       "0  that Rutgers game was an abomination. An affro...  anger\n",
       "1  I get mad over something so minuscule I try to...  anger\n",
       "2  I get mad over something so minuscule I try to...  anger\n",
       "3  eyes have been dilated. I hate the world right...  anger\n",
       "4  One chosen by the CLP members! MP seats are no...  anger"
      ]
     },
     "execution_count": 9,
     "metadata": {},
     "output_type": "execute_result"
    }
   ],
   "source": [
    "train_df.head()"
   ]
  },
  {
   "cell_type": "code",
   "execution_count": 10,
   "metadata": {
    "ExecuteTime": {
     "end_time": "2020-03-31T19:55:56.309833Z",
     "start_time": "2020-03-31T19:55:56.300225Z"
    }
   },
   "outputs": [
    {
     "name": "stdout",
     "output_type": "stream",
     "text": [
      "(1505, 2)\n"
     ]
    },
    {
     "data": {
      "text/html": [
       "<div>\n",
       "<style scoped>\n",
       "    .dataframe tbody tr th:only-of-type {\n",
       "        vertical-align: middle;\n",
       "    }\n",
       "\n",
       "    .dataframe tbody tr th {\n",
       "        vertical-align: top;\n",
       "    }\n",
       "\n",
       "    .dataframe thead th {\n",
       "        text-align: right;\n",
       "    }\n",
       "</style>\n",
       "<table border=\"1\" class=\"dataframe\">\n",
       "  <thead>\n",
       "    <tr style=\"text-align: right;\">\n",
       "      <th></th>\n",
       "      <th>text</th>\n",
       "      <th>tag</th>\n",
       "    </tr>\n",
       "  </thead>\n",
       "  <tbody>\n",
       "    <tr>\n",
       "      <th>0</th>\n",
       "      <td>game has pissed me off more than any other gam...</td>\n",
       "      <td>anger</td>\n",
       "    </tr>\n",
       "    <tr>\n",
       "      <th>1</th>\n",
       "      <td>@mrsajhargreaves @Melly77 @GaryBarlow if he ca...</td>\n",
       "      <td>anger</td>\n",
       "    </tr>\n",
       "    <tr>\n",
       "      <th>2</th>\n",
       "      <td>@mrsajhargreaves @Melly77 @GaryBarlow if he ca...</td>\n",
       "      <td>anger</td>\n",
       "    </tr>\n",
       "    <tr>\n",
       "      <th>3</th>\n",
       "      <td>I've been disconnected whilst on holiday ðŸ˜¤ ...</td>\n",
       "      <td>anger</td>\n",
       "    </tr>\n",
       "    <tr>\n",
       "      <th>4</th>\n",
       "      <td>I'm furious ðŸ˜©ðŸ˜©ðŸ˜©</td>\n",
       "      <td>anger</td>\n",
       "    </tr>\n",
       "  </tbody>\n",
       "</table>\n",
       "</div>"
      ],
      "text/plain": [
       "                                                text    tag\n",
       "0  game has pissed me off more than any other gam...  anger\n",
       "1  @mrsajhargreaves @Melly77 @GaryBarlow if he ca...  anger\n",
       "2  @mrsajhargreaves @Melly77 @GaryBarlow if he ca...  anger\n",
       "3  I've been disconnected whilst on holiday ðŸ˜¤ ...  anger\n",
       "4                           I'm furious ðŸ˜©ðŸ˜©ðŸ˜©  anger"
      ]
     },
     "execution_count": 10,
     "metadata": {},
     "output_type": "execute_result"
    }
   ],
   "source": [
    "print(test_df.shape)\n",
    "test_df.head()"
   ]
  },
  {
   "cell_type": "code",
   "execution_count": 12,
   "metadata": {
    "ExecuteTime": {
     "end_time": "2020-03-31T19:57:17.073014Z",
     "start_time": "2020-03-31T19:57:17.042704Z"
    }
   },
   "outputs": [],
   "source": [
    "train_df.to_csv('data/base/train.csv', index=None)\n",
    "test_df.to_csv('data/base/test.csv', index=None)"
   ]
  },
  {
   "cell_type": "markdown",
   "metadata": {},
   "source": [
    "# Preparing kaggle dataset"
   ]
  },
  {
   "cell_type": "code",
   "execution_count": 28,
   "metadata": {
    "ExecuteTime": {
     "end_time": "2020-03-31T20:07:44.694912Z",
     "start_time": "2020-03-31T20:07:43.993072Z"
    }
   },
   "outputs": [],
   "source": [
    "data = pd.read_csv('data/raw/emotion.data')\n",
    "data.shape"
   ]
  },
  {
   "cell_type": "code",
   "execution_count": 30,
   "metadata": {
    "ExecuteTime": {
     "end_time": "2020-03-31T20:07:49.895556Z",
     "start_time": "2020-03-31T20:07:49.886099Z"
    }
   },
   "outputs": [
    {
     "data": {
      "text/html": [
       "<div>\n",
       "<style scoped>\n",
       "    .dataframe tbody tr th:only-of-type {\n",
       "        vertical-align: middle;\n",
       "    }\n",
       "\n",
       "    .dataframe tbody tr th {\n",
       "        vertical-align: top;\n",
       "    }\n",
       "\n",
       "    .dataframe thead th {\n",
       "        text-align: right;\n",
       "    }\n",
       "</style>\n",
       "<table border=\"1\" class=\"dataframe\">\n",
       "  <thead>\n",
       "    <tr style=\"text-align: right;\">\n",
       "      <th></th>\n",
       "      <th>Unnamed: 0</th>\n",
       "      <th>text</th>\n",
       "      <th>emotions</th>\n",
       "    </tr>\n",
       "  </thead>\n",
       "  <tbody>\n",
       "    <tr>\n",
       "      <th>0</th>\n",
       "      <td>27383</td>\n",
       "      <td>i feel awful about it too because it s my job ...</td>\n",
       "      <td>sadness</td>\n",
       "    </tr>\n",
       "    <tr>\n",
       "      <th>1</th>\n",
       "      <td>110083</td>\n",
       "      <td>im alone i feel awful</td>\n",
       "      <td>sadness</td>\n",
       "    </tr>\n",
       "    <tr>\n",
       "      <th>2</th>\n",
       "      <td>140764</td>\n",
       "      <td>ive probably mentioned this before but i reall...</td>\n",
       "      <td>joy</td>\n",
       "    </tr>\n",
       "    <tr>\n",
       "      <th>3</th>\n",
       "      <td>100071</td>\n",
       "      <td>i was feeling a little low few days back</td>\n",
       "      <td>sadness</td>\n",
       "    </tr>\n",
       "    <tr>\n",
       "      <th>4</th>\n",
       "      <td>2837</td>\n",
       "      <td>i beleive that i am much more sensitive to oth...</td>\n",
       "      <td>love</td>\n",
       "    </tr>\n",
       "  </tbody>\n",
       "</table>\n",
       "</div>"
      ],
      "text/plain": [
       "   Unnamed: 0                                               text emotions\n",
       "0       27383  i feel awful about it too because it s my job ...  sadness\n",
       "1      110083                              im alone i feel awful  sadness\n",
       "2      140764  ive probably mentioned this before but i reall...      joy\n",
       "3      100071           i was feeling a little low few days back  sadness\n",
       "4        2837  i beleive that i am much more sensitive to oth...     love"
      ]
     },
     "execution_count": 30,
     "metadata": {},
     "output_type": "execute_result"
    }
   ],
   "source": [
    "data.head()"
   ]
  },
  {
   "cell_type": "code",
   "execution_count": 32,
   "metadata": {
    "ExecuteTime": {
     "end_time": "2020-03-31T20:08:13.698463Z",
     "start_time": "2020-03-31T20:08:13.676630Z"
    }
   },
   "outputs": [],
   "source": [
    "del data['Unnamed: 0']\n",
    "data.head()"
   ]
  },
  {
   "cell_type": "code",
   "execution_count": 34,
   "metadata": {
    "ExecuteTime": {
     "end_time": "2020-03-31T20:08:44.619412Z",
     "start_time": "2020-03-31T20:08:43.140441Z"
    }
   },
   "outputs": [],
   "source": [
    "data.to_csv('data/raw/kaggle_emotion_data.csv', index=None)"
   ]
  }
 ],
 "metadata": {
  "kernelspec": {
   "display_name": "Python 3",
   "language": "python",
   "name": "python3"
  },
  "language_info": {
   "codemirror_mode": {
    "name": "ipython",
    "version": 3
   },
   "file_extension": ".py",
   "mimetype": "text/x-python",
   "name": "python",
   "nbconvert_exporter": "python",
   "pygments_lexer": "ipython3",
   "version": "3.8.5"
  },
  "toc": {
   "base_numbering": 1,
   "nav_menu": {},
   "number_sections": true,
   "sideBar": true,
   "skip_h1_title": false,
   "title_cell": "Table of Contents",
   "title_sidebar": "Contents",
   "toc_cell": false,
   "toc_position": {},
   "toc_section_display": true,
   "toc_window_display": false
  }
 },
 "nbformat": 4,
 "nbformat_minor": 2
}
