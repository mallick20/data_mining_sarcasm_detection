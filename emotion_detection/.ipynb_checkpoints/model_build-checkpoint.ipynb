{
 "cells": [
  {
   "cell_type": "code",
   "execution_count": 1,
   "metadata": {
    "ExecuteTime": {
     "end_time": "2020-04-01T10:37:52.201702Z",
     "start_time": "2020-04-01T10:37:52.009639Z"
    }
   },
   "outputs": [],
   "source": [
    "import numpy as np\n",
    "from numpy import asarray\n",
    "import seaborn as sns\n",
    "import matplotlib.pyplot as plt\n",
    "import pandas as pd\n",
    "\n",
    "from sklearn.metrics import confusion_matrix\n",
    "from sklearn.model_selection import train_test_split\n",
    "\n",
    "import pydotplus as pyd\n",
    "\n",
    "import keras\n",
    "from keras.callbacks import ModelCheckpoint, TensorBoard, EarlyStopping, ReduceLROnPlateau\n",
    "from keras import optimizers\n",
    "from keras.utils import to_categorical\n",
    "from keras.models import Model\n",
    "from keras import backend as K\n",
    "from keras.models import load_model\n",
    "from keras.layers import Dense, Input, Flatten, Embedding, Conv1D, MaxPooling1D, Dropout, BatchNormalization, Activation, concatenate\n",
    "from keras.utils import plot_model\n",
    "from keras.preprocessing.text import Tokenizer\n",
    "from keras.preprocessing.sequence import pad_sequences\n",
    "\n",
    "%matplotlib inline"
   ]
  },
  {
   "cell_type": "markdown",
   "metadata": {},
   "source": [
    "# Dataset loading - 1"
   ]
  },
  {
   "cell_type": "code",
   "execution_count": 2,
   "metadata": {
    "ExecuteTime": {
     "end_time": "2020-04-01T10:37:52.713817Z",
     "start_time": "2020-04-01T10:37:52.564219Z"
    }
   },
   "outputs": [
    {
     "data": {
      "text/html": [
       "<div>\n",
       "<style scoped>\n",
       "    .dataframe tbody tr th:only-of-type {\n",
       "        vertical-align: middle;\n",
       "    }\n",
       "\n",
       "    .dataframe tbody tr th {\n",
       "        vertical-align: top;\n",
       "    }\n",
       "\n",
       "    .dataframe thead th {\n",
       "        text-align: right;\n",
       "    }\n",
       "</style>\n",
       "<table border=\"1\" class=\"dataframe\">\n",
       "  <thead>\n",
       "    <tr style=\"text-align: right;\">\n",
       "      <th></th>\n",
       "      <th>text</th>\n",
       "      <th>tag</th>\n",
       "    </tr>\n",
       "  </thead>\n",
       "  <tbody>\n",
       "    <tr>\n",
       "      <th>0</th>\n",
       "      <td>that rutgers game was an abomination an affron...</td>\n",
       "      <td>anger</td>\n",
       "    </tr>\n",
       "    <tr>\n",
       "      <th>1</th>\n",
       "      <td>i get mad over something so minuscule i try to...</td>\n",
       "      <td>anger</td>\n",
       "    </tr>\n",
       "    <tr>\n",
       "      <th>2</th>\n",
       "      <td>i get mad over something so minuscule i try to...</td>\n",
       "      <td>anger</td>\n",
       "    </tr>\n",
       "    <tr>\n",
       "      <th>3</th>\n",
       "      <td>eyes have been dilated i hate the world right ...</td>\n",
       "      <td>anger</td>\n",
       "    </tr>\n",
       "    <tr>\n",
       "      <th>4</th>\n",
       "      <td>one chosen by the clp members mp seats are not...</td>\n",
       "      <td>anger</td>\n",
       "    </tr>\n",
       "  </tbody>\n",
       "</table>\n",
       "</div>"
      ],
      "text/plain": [
       "                                                text    tag\n",
       "0  that rutgers game was an abomination an affron...  anger\n",
       "1  i get mad over something so minuscule i try to...  anger\n",
       "2  i get mad over something so minuscule i try to...  anger\n",
       "3  eyes have been dilated i hate the world right ...  anger\n",
       "4  one chosen by the clp members mp seats are not...  anger"
      ]
     },
     "execution_count": 2,
     "metadata": {},
     "output_type": "execute_result"
    }
   ],
   "source": [
    "train_data = pd.read_csv('data/final/clean_train.csv')\n",
    "test_data = pd.read_csv('data/final/clean_test.csv')\n",
    "train_data.head()"
   ]
  },
  {
   "cell_type": "code",
   "execution_count": 3,
   "metadata": {
    "ExecuteTime": {
     "end_time": "2020-04-01T10:37:53.776585Z",
     "start_time": "2020-04-01T10:37:53.758178Z"
    }
   },
   "outputs": [],
   "source": [
    "train_data['text'] = train_data['text'].apply(str)\n",
    "test_data['text'] = test_data['text'].apply(str)\n",
    "\n",
    "train_data['tag'] = train_data['tag'].apply(lambda x: ['fear', 'joy', 'anger', 'sadness'].index(x))\n",
    "test_data['tag'] = test_data['tag'].apply(lambda x: ['fear', 'joy', 'anger', 'sadness'].index(x))"
   ]
  },
  {
   "cell_type": "code",
   "execution_count": 7,
   "metadata": {
    "ExecuteTime": {
     "end_time": "2020-04-01T10:37:54.685825Z",
     "start_time": "2020-04-01T10:37:54.356634Z"
    }
   },
   "outputs": [],
   "source": [
    "X_train = train_data['text'].values\n",
    "X_test = test_data['text'].values\n",
    "\n",
    "y_train = train_data['tag'].values\n",
    "y_test = test_data['tag'].values\n",
    "\n",
    "X_train, X_cross_val, y_train, y_cross_val = train_test_split(X_train, y_train, test_size=0.2, random_state=40, stratify=y_train)"
   ]
  },
  {
   "cell_type": "code",
   "execution_count": 8,
   "metadata": {
    "ExecuteTime": {
     "end_time": "2020-04-01T10:37:54.762251Z",
     "start_time": "2020-04-01T10:37:54.751180Z"
    }
   },
   "outputs": [
    {
     "name": "stdout",
     "output_type": "stream",
     "text": [
      "Composition for training dataset\n",
      "0 : 455\n",
      "1 : 333\n",
      "2 : 327\n",
      "3 : 317\n"
     ]
    }
   ],
   "source": [
    "unique, counts = np.unique(y_train, return_counts=True)\n",
    "print(\"Composition for training dataset\")\n",
    "for i in range(len(unique)):\n",
    "    print(f\"{unique[i]} : {counts[i]}\")"
   ]
  },
  {
   "cell_type": "code",
   "execution_count": 9,
   "metadata": {
    "ExecuteTime": {
     "end_time": "2020-04-01T10:37:55.250528Z",
     "start_time": "2020-04-01T10:37:55.241862Z"
    }
   },
   "outputs": [
    {
     "name": "stdout",
     "output_type": "stream",
     "text": [
      "Composition for cross validation dataset\n",
      "0 : 114\n",
      "1 : 83\n",
      "2 : 82\n",
      "3 : 79\n"
     ]
    }
   ],
   "source": [
    "unique, counts = np.unique(y_cross_val, return_counts=True)\n",
    "print(\"Composition for cross validation dataset\")\n",
    "for i in range(len(unique)):\n",
    "    print(f\"{unique[i]} : {counts[i]}\")"
   ]
  },
  {
   "cell_type": "code",
   "execution_count": 10,
   "metadata": {
    "ExecuteTime": {
     "end_time": "2020-04-01T10:37:55.766941Z",
     "start_time": "2020-04-01T10:37:55.757557Z"
    }
   },
   "outputs": [
    {
     "name": "stdout",
     "output_type": "stream",
     "text": [
      "Composition for test dataset\n",
      "0 : 471\n",
      "1 : 356\n",
      "2 : 348\n",
      "3 : 327\n"
     ]
    }
   ],
   "source": [
    "unique, counts = np.unique(y_test, return_counts=True)\n",
    "print(\"Composition for test dataset\")\n",
    "for i in range(len(unique)):\n",
    "    print(f\"{unique[i]} : {counts[i]}\")"
   ]
  },
  {
   "cell_type": "code",
   "execution_count": 11,
   "metadata": {
    "ExecuteTime": {
     "end_time": "2020-04-01T10:37:56.621007Z",
     "start_time": "2020-04-01T10:37:56.403467Z"
    }
   },
   "outputs": [],
   "source": [
    "t = Tokenizer()\n",
    "t.fit_on_texts(X_train)\n",
    "enc_train = t.texts_to_sequences(X_train)\n",
    "enc_cross_val = t.texts_to_sequences(X_cross_val)\n",
    "enc_test = t.texts_to_sequences(X_test)\n"
   ]
  },
  {
   "cell_type": "code",
   "execution_count": 12,
   "metadata": {
    "ExecuteTime": {
     "end_time": "2020-04-01T10:37:57.544956Z",
     "start_time": "2020-04-01T10:37:56.890472Z"
    }
   },
   "outputs": [
    {
     "name": "stdout",
     "output_type": "stream",
     "text": [
      "4635\n"
     ]
    }
   ],
   "source": [
    "size_vocabulary = len(t.word_index) + 1\n",
    "print(size_vocabulary)"
   ]
  },
  {
   "cell_type": "code",
   "execution_count": 13,
   "metadata": {
    "ExecuteTime": {
     "end_time": "2020-04-01T10:37:57.628263Z",
     "start_time": "2020-04-01T10:37:57.549046Z"
    }
   },
   "outputs": [],
   "source": [
    "pad_cross_val = pad_sequences(enc_cross_val, maxlen=140, padding='post')\n",
    "pad_test = pad_sequences(enc_test, maxlen=140, padding='post')\n",
    "pad_train = pad_sequences(enc_train, maxlen=140, padding='post')"
   ]
  },
  {
   "cell_type": "code",
   "execution_count": 14,
   "metadata": {
    "ExecuteTime": {
     "end_time": "2020-04-01T10:37:57.719605Z",
     "start_time": "2020-04-01T10:37:57.712514Z"
    }
   },
   "outputs": [],
   "source": [
    "y_cross_val = to_categorical(y_cross_val, num_classes=4)\n",
    "y_test = to_categorical(y_test, num_classes=4)\n",
    "y_train = to_categorical(y_train, num_classes=4)"
   ]
  },
  {
   "cell_type": "code",
   "execution_count": 16,
   "metadata": {
    "ExecuteTime": {
     "end_time": "2020-04-01T08:10:04.703272Z",
     "start_time": "2020-04-01T08:08:29.599824Z"
    }
   },
   "outputs": [
    {
     "name": "stdout",
     "output_type": "stream",
     "text": [
      "Loaded 1193514 word vectors.\n"
     ]
    }
   ],
   "source": [
    "# load the whole embedding into memory\n",
    "embeddings_index = dict()\n",
    "fil = open('glove.twitter.27B.200d.txt', encoding = \"utf8\")\n",
    "for vakya in fil:\n",
    "    value = vakya.split()\n",
    "    shabd = value[0]\n",
    "    coefs = asarray(value[1:], dtype='float32')\n",
    "    embeddings_index[shabd] = coefs\n",
    "\n",
    "fil.close()\n",
    "print('Loaded %s word vectors.' % len(embeddings_index))"
   ]
  },
  {
   "cell_type": "code",
   "execution_count": 17,
   "metadata": {
    "ExecuteTime": {
     "end_time": "2020-04-01T10:38:00.863702Z",
     "start_time": "2020-04-01T10:38:00.281324Z"
    }
   },
   "outputs": [
    {
     "data": {
      "text/plain": [
       "(4635, 200)"
      ]
     },
     "execution_count": 17,
     "metadata": {},
     "output_type": "execute_result"
    }
   ],
   "source": [
    "# create a weight matrix for words in training docs\n",
    "matrix_embedding = np.zeros((size_vocabulary, 200))\n",
    "for word, i in t.word_index.items():\n",
    "    try:\n",
    "        embedding_vector = embeddings_index[word]\n",
    "    except:\n",
    "        embedding_vector = [0]*200\n",
    "    \n",
    "    matrix_embedding[i] = embedding_vector\n",
    "        \n",
    "matrix_embedding.shape"
   ]
  },
  {
   "cell_type": "code",
   "execution_count": 18,
   "metadata": {
    "ExecuteTime": {
     "end_time": "2020-04-01T10:38:01.721434Z",
     "start_time": "2020-04-01T10:38:01.707991Z"
    }
   },
   "outputs": [],
   "source": [
    "#  To handle case of division by zero, custom precision, recall and f1 score have been defined\n",
    "\n",
    "def precision_m(y_true, y_pred):\n",
    "        true_positives = K.sum(K.round(K.clip(y_true * y_pred, 0, 1)))\n",
    "        predicted_positives = K.sum(K.round(K.clip(y_pred, 0, 1)))\n",
    "        precision = true_positives / (predicted_positives + K.epsilon())\n",
    "        return precision\n",
    "\n",
    "def recall_m(y_true, y_pred):\n",
    "        true_positives = K.sum(K.round(K.clip(y_true * y_pred, 0, 1)))\n",
    "        possible_positives = K.sum(K.round(K.clip(y_true, 0, 1)))\n",
    "        recall = true_positives / (possible_positives + K.epsilon())\n",
    "        return recall\n",
    "\n",
    "def f1_m(y_true, y_pred):\n",
    "    precision = precision_m(y_true, y_pred)\n",
    "    recall = recall_m(y_true, y_pred)\n",
    "    return 2*((precision*recall)/(precision+recall+K.epsilon()))"
   ]
  },
  {
   "cell_type": "code",
   "execution_count": 19,
   "metadata": {
    "ExecuteTime": {
     "end_time": "2020-04-01T10:38:06.388645Z",
     "start_time": "2020-04-01T10:38:03.688886Z"
    }
   },
   "outputs": [
    {
     "name": "stdout",
     "output_type": "stream",
     "text": [
      "Model: \"model\"\n",
      "_________________________________________________________________\n",
      "Layer (type)                 Output Shape              Param #   \n",
      "=================================================================\n",
      "main_input (InputLayer)      [(None, 140)]             0         \n",
      "_________________________________________________________________\n",
      "embedding (Embedding)        (None, 140, 200)          927000    \n",
      "_________________________________________________________________\n",
      "conv1d (Conv1D)              (None, 138, 50)           30050     \n",
      "_________________________________________________________________\n",
      "max_pooling1d (MaxPooling1D) (None, 69, 50)            0         \n",
      "_________________________________________________________________\n",
      "conv1d_1 (Conv1D)            (None, 68, 100)           10100     \n",
      "_________________________________________________________________\n",
      "max_pooling1d_1 (MaxPooling1 (None, 34, 100)           0         \n",
      "_________________________________________________________________\n",
      "flatten (Flatten)            (None, 3400)              0         \n",
      "_________________________________________________________________\n",
      "fully_connected (Dense)      (None, 150)               510150    \n",
      "_________________________________________________________________\n",
      "dense (Dense)                (None, 4)                 604       \n",
      "=================================================================\n",
      "Total params: 1,477,904\n",
      "Trainable params: 550,904\n",
      "Non-trainable params: 927,000\n",
      "_________________________________________________________________\n",
      "None\n"
     ]
    }
   ],
   "source": [
    "data_inp = Input(shape=(140,), name='main_input')\n",
    "layer_embed = Embedding(size_vocabulary, 200, weights=[matrix_embedding], trainable=False)(data_inp)\n",
    "conv_layer_1 = Conv1D(filters=50, kernel_size=3, activation='relu')(layer_embed)\n",
    "max_layer_1 = MaxPooling1D(pool_size=2)(conv_layer_1)\n",
    "conv_layer_2 = Conv1D(filters=100, kernel_size=2, activation='relu')(max_layer_1)\n",
    "max_layer_2 = MaxPooling1D(pool_size=2)(conv_layer_2)\n",
    "flatten_layer = Flatten()(max_layer_2)\n",
    "dense = Dense(150, activation='relu', name='fully_connected')(flatten_layer)\n",
    "out_layer = Dense(4, activation='softmax')(dense)\n",
    "\n",
    "model_one = Model(inputs=[data_inp], outputs=[out_layer])\n",
    "\n",
    "print(model_one.summary())"
   ]
  },
  {
   "cell_type": "code",
   "execution_count": 20,
   "metadata": {
    "ExecuteTime": {
     "end_time": "2020-04-01T10:38:07.146672Z",
     "start_time": "2020-04-01T10:38:06.991706Z"
    }
   },
   "outputs": [
    {
     "data": {
      "image/png": "[encoded data removed]",
      "text/plain": [
       "<IPython.core.display.Image object>"
      ]
     },
     "execution_count": 20,
     "metadata": {},
     "output_type": "execute_result"
    }
   ],
   "source": [
    "plot_model(model_one, to_file='model_one.png')"
   ]
  },
  {
   "cell_type": "code",
   "execution_count": 21,
   "metadata": {
    "ExecuteTime": {
     "end_time": "2020-04-01T10:38:11.210972Z",
     "start_time": "2020-04-01T10:38:11.204516Z"
    }
   },
   "outputs": [],
   "source": [
    "check_point = ModelCheckpoint(\"models/emo_model.h5\", mode=\"max\", monitor=\"val_f1_m\", verbose=1, save_best_only = True)\n",
    "early_stop = EarlyStopping(mode=\"max\", monitor = 'val_f1_m', patience = 5, min_delta = 0,  verbose=1)\n",
    "reduce_lr = ReduceLROnPlateau(factor=0.5, patience=5, monitor='val_f1_m', verbose=10, mode = 'max',  min_lr=0.0001)"
   ]
  },
  {
   "cell_type": "code",
   "execution_count": 23,
   "metadata": {
    "ExecuteTime": {
     "end_time": "2020-04-01T10:39:12.341346Z",
     "start_time": "2020-04-01T10:38:13.075358Z"
    },
    "scrolled": true
   },
   "outputs": [
    {
     "name": "stdout",
     "output_type": "stream",
     "text": [
      "Epoch 1/50\n",
      "90/90 [==============================] - 4s 29ms/step - loss: 1.3770 - f1_m: 0.0000e+00 - acc: 0.3274 - val_loss: 1.3609 - val_f1_m: 0.0000e+00 - val_acc: 0.3324\n",
      "\n",
      "Epoch 00001: val_f1_m improved from -inf to 0.00000, saving model to models\\emo_model.h5\n",
      "Epoch 2/50\n",
      "90/90 [==============================] - 2s 23ms/step - loss: 1.3362 - f1_m: 0.0000e+00 - acc: 0.3691 - val_loss: 1.3453 - val_f1_m: 0.0000e+00 - val_acc: 0.3547\n",
      "\n",
      "Epoch 00002: val_f1_m did not improve from 0.00000\n",
      "Epoch 3/50\n",
      "90/90 [==============================] - 2s 24ms/step - loss: 1.3081 - f1_m: 5.4161e-04 - acc: 0.3867 - val_loss: 1.3090 - val_f1_m: 0.0153 - val_acc: 0.3883\n",
      "\n",
      "Epoch 00003: val_f1_m improved from 0.00000 to 0.01535, saving model to models\\emo_model.h5\n",
      "Epoch 4/50\n",
      "90/90 [==============================] - 2s 23ms/step - loss: 1.1931 - f1_m: 0.0896 - acc: 0.4871 - val_loss: 1.2283 - val_f1_m: 0.1536 - val_acc: 0.4274\n",
      "\n",
      "Epoch 00004: val_f1_m improved from 0.01535 to 0.15357, saving model to models\\emo_model.h5\n",
      "Epoch 5/50\n",
      "90/90 [==============================] - 2s 24ms/step - loss: 1.0696 - f1_m: 0.2167 - acc: 0.5975 - val_loss: 1.1341 - val_f1_m: 0.3032 - val_acc: 0.4777\n",
      "\n",
      "Epoch 00005: val_f1_m improved from 0.15357 to 0.30318, saving model to models\\emo_model.h5\n",
      "Epoch 6/50\n",
      "90/90 [==============================] - 2s 26ms/step - loss: 0.9187 - f1_m: 0.4641 - acc: 0.6663 - val_loss: 1.0648 - val_f1_m: 0.3675 - val_acc: 0.5531\n",
      "\n",
      "Epoch 00006: val_f1_m improved from 0.30318 to 0.36747, saving model to models\\emo_model.h5\n",
      "Epoch 7/50\n",
      "90/90 [==============================] - 2s 24ms/step - loss: 0.8000 - f1_m: 0.5667 - acc: 0.7239 - val_loss: 1.0235 - val_f1_m: 0.4479 - val_acc: 0.5670\n",
      "\n",
      "Epoch 00007: val_f1_m improved from 0.36747 to 0.44795, saving model to models\\emo_model.h5\n",
      "Epoch 8/50\n",
      "90/90 [==============================] - 2s 25ms/step - loss: 0.6643 - f1_m: 0.6824 - acc: 0.7984 - val_loss: 0.9486 - val_f1_m: 0.5026 - val_acc: 0.6201\n",
      "\n",
      "Epoch 00008: val_f1_m improved from 0.44795 to 0.50257, saving model to models\\emo_model.h5\n",
      "Epoch 9/50\n",
      "90/90 [==============================] - 2s 26ms/step - loss: 0.5621 - f1_m: 0.7604 - acc: 0.8306 - val_loss: 0.9141 - val_f1_m: 0.5462 - val_acc: 0.6397\n",
      "\n",
      "Epoch 00009: val_f1_m improved from 0.50257 to 0.54622, saving model to models\\emo_model.h5\n",
      "Epoch 10/50\n",
      "90/90 [==============================] - 2s 25ms/step - loss: 0.4596 - f1_m: 0.8273 - acc: 0.8711 - val_loss: 0.8832 - val_f1_m: 0.5819 - val_acc: 0.6257\n",
      "\n",
      "Epoch 00010: val_f1_m improved from 0.54622 to 0.58187, saving model to models\\emo_model.h5\n",
      "Epoch 11/50\n",
      "90/90 [==============================] - 2s 25ms/step - loss: 0.4177 - f1_m: 0.8659 - acc: 0.8951 - val_loss: 0.8517 - val_f1_m: 0.6226 - val_acc: 0.6397\n",
      "\n",
      "Epoch 00011: val_f1_m improved from 0.58187 to 0.62259, saving model to models\\emo_model.h5\n",
      "Epoch 12/50\n",
      "90/90 [==============================] - 2s 25ms/step - loss: 0.3535 - f1_m: 0.8927 - acc: 0.9130 - val_loss: 0.8556 - val_f1_m: 0.6468 - val_acc: 0.6453\n",
      "\n",
      "Epoch 00012: val_f1_m improved from 0.62259 to 0.64679, saving model to models\\emo_model.h5\n",
      "Epoch 13/50\n",
      "90/90 [==============================] - 2s 24ms/step - loss: 0.3058 - f1_m: 0.9094 - acc: 0.9172 - val_loss: 0.8073 - val_f1_m: 0.6732 - val_acc: 0.6732\n",
      "\n",
      "Epoch 00013: val_f1_m improved from 0.64679 to 0.67321, saving model to models\\emo_model.h5\n",
      "Epoch 14/50\n",
      "90/90 [==============================] - 2s 25ms/step - loss: 0.2442 - f1_m: 0.9372 - acc: 0.9462 - val_loss: 0.7992 - val_f1_m: 0.6765 - val_acc: 0.6704\n",
      "\n",
      "Epoch 00014: val_f1_m improved from 0.67321 to 0.67648, saving model to models\\emo_model.h5\n",
      "Epoch 15/50\n",
      "90/90 [==============================] - 2s 24ms/step - loss: 0.2254 - f1_m: 0.9463 - acc: 0.9583 - val_loss: 0.8125 - val_f1_m: 0.6933 - val_acc: 0.6955\n",
      "\n",
      "Epoch 00015: val_f1_m improved from 0.67648 to 0.69331, saving model to models\\emo_model.h5\n",
      "Epoch 16/50\n",
      "90/90 [==============================] - 2s 23ms/step - loss: 0.1857 - f1_m: 0.9574 - acc: 0.9713 - val_loss: 0.7848 - val_f1_m: 0.6915 - val_acc: 0.6927\n",
      "\n",
      "Epoch 00016: val_f1_m did not improve from 0.69331\n",
      "Epoch 17/50\n",
      "90/90 [==============================] - 2s 25ms/step - loss: 0.1475 - f1_m: 0.9715 - acc: 0.9753 - val_loss: 0.8384 - val_f1_m: 0.6737 - val_acc: 0.6704\n",
      "\n",
      "Epoch 00017: val_f1_m did not improve from 0.69331\n",
      "Epoch 18/50\n",
      "90/90 [==============================] - 2s 24ms/step - loss: 0.1299 - f1_m: 0.9809 - acc: 0.9869 - val_loss: 0.8023 - val_f1_m: 0.7102 - val_acc: 0.6927\n",
      "\n",
      "Epoch 00018: val_f1_m improved from 0.69331 to 0.71021, saving model to models\\emo_model.h5\n",
      "Epoch 19/50\n",
      "90/90 [==============================] - 2s 23ms/step - loss: 0.1293 - f1_m: 0.9742 - acc: 0.9823 - val_loss: 0.8023 - val_f1_m: 0.7091 - val_acc: 0.7011\n",
      "\n",
      "Epoch 00019: val_f1_m did not improve from 0.71021\n",
      "Epoch 20/50\n",
      "90/90 [==============================] - 2s 23ms/step - loss: 0.0929 - f1_m: 0.9886 - acc: 0.9924 - val_loss: 0.8007 - val_f1_m: 0.7153 - val_acc: 0.7263\n",
      "\n",
      "Epoch 00020: val_f1_m improved from 0.71021 to 0.71529, saving model to models\\emo_model.h5\n",
      "Epoch 21/50\n",
      "90/90 [==============================] - 2s 23ms/step - loss: 0.0823 - f1_m: 0.9887 - acc: 0.9899 - val_loss: 0.7918 - val_f1_m: 0.7350 - val_acc: 0.7207\n",
      "\n",
      "Epoch 00021: val_f1_m improved from 0.71529 to 0.73502, saving model to models\\emo_model.h5\n",
      "Epoch 22/50\n",
      "90/90 [==============================] - 2s 24ms/step - loss: 0.0857 - f1_m: 0.9787 - acc: 0.9812 - val_loss: 0.7991 - val_f1_m: 0.7308 - val_acc: 0.7207\n",
      "\n",
      "Epoch 00022: val_f1_m did not improve from 0.73502\n",
      "Epoch 23/50\n",
      "90/90 [==============================] - 2s 23ms/step - loss: 0.0657 - f1_m: 0.9895 - acc: 0.9902 - val_loss: 0.8168 - val_f1_m: 0.7268 - val_acc: 0.7151\n",
      "\n",
      "Epoch 00023: val_f1_m did not improve from 0.73502\n",
      "Epoch 24/50\n",
      "90/90 [==============================] - 2s 23ms/step - loss: 0.0620 - f1_m: 0.9892 - acc: 0.9905 - val_loss: 0.8607 - val_f1_m: 0.7194 - val_acc: 0.7095\n",
      "\n",
      "Epoch 00024: val_f1_m did not improve from 0.73502\n",
      "Epoch 25/50\n",
      "90/90 [==============================] - 2s 24ms/step - loss: 0.0620 - f1_m: 0.9898 - acc: 0.9904 - val_loss: 0.8566 - val_f1_m: 0.7245 - val_acc: 0.7067\n",
      "\n",
      "Epoch 00025: val_f1_m did not improve from 0.73502\n",
      "Epoch 26/50\n",
      "90/90 [==============================] - 2s 26ms/step - loss: 0.0608 - f1_m: 0.9878 - acc: 0.9871 - val_loss: 0.8634 - val_f1_m: 0.7268 - val_acc: 0.7067\n",
      "\n",
      "Epoch 00026: val_f1_m did not improve from 0.73502\n",
      "Epoch 00026: early stopping\n"
     ]
    }
   ],
   "source": [
    "c = optimizers.Adam(lr = 0.0001)\n",
    "model_one.compile(optimizer=c, loss='categorical_crossentropy', metrics=[f1_m, 'acc'])\n",
    "\n",
    "h1 = model_one.fit(pad_train, y_train, verbose=1, epochs=50, batch_size=16, callbacks=[check_point, early_stop, reduce_lr], \n",
    "               validation_data=(pad_cross_val, y_cross_val))"
   ]
  },
  {
   "cell_type": "code",
   "execution_count": 25,
   "metadata": {
    "ExecuteTime": {
     "end_time": "2020-04-01T10:39:24.780619Z",
     "start_time": "2020-04-01T10:39:23.449809Z"
    }
   },
   "outputs": [
    {
     "name": "stdout",
     "output_type": "stream",
     "text": [
      "[[335  17  71  48]\n",
      " [ 31 273  30  22]\n",
      " [ 60  14 248  26]\n",
      " [ 86  23  37 181]]\n"
     ]
    },
    {
     "data": {
      "text/plain": [
       "<AxesSubplot:>"
      ]
     },
     "execution_count": 25,
     "metadata": {},
     "output_type": "execute_result"
    },
    {
     "data": {
      "image/png": "[encoded data removed]",
      "text/plain": [
       "<Figure size 432x288 with 2 Axes>"
      ]
     },
     "metadata": {
      "needs_background": "light"
     },
     "output_type": "display_data"
    }
   ],
   "source": [
    "conf_matrix = confusion_matrix(np.argmax(y_test, axis=1), np.argmax(model_one.predict(pad_test), axis=1))\n",
    "\n",
    "print(conf_matrix)\n",
    "sns.heatmap(conf_matrix, annot=True, fmt='g', linewidths=.4, yticklabels=['Act 0', 'Act 1', 'Act 2', 'Act 3'],  \n",
    "            xticklabels=['Pred 0', 'Pred 1', 'Pred 2', 'Pred 3'])"
   ]
  },
  {
   "cell_type": "code",
   "execution_count": 26,
   "metadata": {
    "ExecuteTime": {
     "end_time": "2020-04-01T10:39:28.923608Z",
     "start_time": "2020-04-01T10:39:26.987432Z"
    }
   },
   "outputs": [
    {
     "name": "stdout",
     "output_type": "stream",
     "text": [
      "47/47 [==============================] - 0s 9ms/step - loss: 0.9417 - f1_m: 0.6882 - acc: 0.6904\n",
      "['loss', 'f1_m', 'acc']\n",
      "[0.9416749477386475, 0.6881604194641113, 0.6904127597808838]\n"
     ]
    }
   ],
   "source": [
    "score_model_one = model_one.evaluate(pad_test, y_test)\n",
    "print(model_one.metrics_names)\n",
    "print(score_model_one)"
   ]
  },
  {
   "cell_type": "code",
   "execution_count": 27,
   "metadata": {
    "ExecuteTime": {
     "end_time": "2020-04-01T10:39:32.101021Z",
     "start_time": "2020-04-01T10:39:31.745333Z"
    }
   },
   "outputs": [
    {
     "data": {
      "image/png": "[encoded data removed]",
      "text/plain": [
       "<Figure size 432x288 with 1 Axes>"
      ]
     },
     "metadata": {
      "needs_background": "light"
     },
     "output_type": "display_data"
    }
   ],
   "source": [
    "plt.plot(h1.history['loss'][1:])\n",
    "plt.plot(h1.history['val_loss'][1:])\n",
    "plt.title('Model Loss Metrics')\n",
    "plt.ylabel('loss')\n",
    "plt.xlabel('epochs')\n",
    "plt.legend(['train','validation'], loc='lower left')\n",
    "plt.show()"
   ]
  },
  {
   "cell_type": "code",
   "execution_count": 28,
   "metadata": {
    "ExecuteTime": {
     "end_time": "2020-04-01T10:39:33.430598Z",
     "start_time": "2020-04-01T10:39:33.071861Z"
    }
   },
   "outputs": [
    {
     "data": {
      "image/png": "[encoded data removed]",
      "text/plain": [
       "<Figure size 432x288 with 1 Axes>"
      ]
     },
     "metadata": {
      "needs_background": "light"
     },
     "output_type": "display_data"
    }
   ],
   "source": [
    "plt.plot(h1.history['f1_m'][1:])\n",
    "plt.plot(h1.history['val_f1_m'][1:])\n",
    "plt.title('Model performance')\n",
    "plt.ylabel('F1 value')\n",
    "plt.xlabel('epochs')\n",
    "plt.legend(['train','validation'], loc='lower right')\n",
    "plt.show()\n"
   ]
  },
  {
   "cell_type": "code",
   "execution_count": null,
   "metadata": {},
   "outputs": [],
   "source": []
  }
 ],
 "metadata": {
  "kernelspec": {
   "display_name": "Python 3",
   "language": "python",
   "name": "python3"
  },
  "language_info": {
   "codemirror_mode": {
    "name": "ipython",
    "version": 3
   },
   "file_extension": ".py",
   "mimetype": "text/x-python",
   "name": "python",
   "nbconvert_exporter": "python",
   "pygments_lexer": "ipython3",
   "version": "3.8.5"
  },
  "toc": {
   "base_numbering": 1,
   "nav_menu": {},
   "number_sections": true,
   "sideBar": true,
   "skip_h1_title": false,
   "title_cell": "Table of Contents",
   "title_sidebar": "Contents",
   "toc_cell": false,
   "toc_position": {},
   "toc_section_display": true,
   "toc_window_display": false
  }
 },
 "nbformat": 4,
 "nbformat_minor": 4
}
